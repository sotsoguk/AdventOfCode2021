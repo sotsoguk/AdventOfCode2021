{
 "cells": [
  {
   "cell_type": "code",
   "execution_count": 5,
   "id": "c2359399",
   "metadata": {},
   "outputs": [],
   "source": [
    "st = \"01,93 -> 5,9\"\n"
   ]
  },
  {
   "cell_type": "code",
   "execution_count": 6,
   "id": "29a8a412",
   "metadata": {},
   "outputs": [],
   "source": [
    "import re"
   ]
  },
  {
   "cell_type": "code",
   "execution_count": 7,
   "id": "e8e88693",
   "metadata": {},
   "outputs": [
    {
     "data": {
      "text/plain": [
       "['01', '93', '5', '9']"
      ]
     },
     "execution_count": 7,
     "metadata": {},
     "output_type": "execute_result"
    }
   ],
   "source": [
    "re.findall('\\d+',st)"
   ]
  },
  {
   "cell_type": "code",
   "execution_count": 8,
   "id": "84efe8dc",
   "metadata": {},
   "outputs": [],
   "source": [
    "inp = [\"0,9 -> 5,9\",\n",
    "\"8,0 -> 0,8\",\n",
    "\"9,4 -> 3,4\",\n",
    "\"2,2 -> 2,1\"]"
   ]
  },
  {
   "cell_type": "code",
   "execution_count": 11,
   "id": "2bad8fcc",
   "metadata": {},
   "outputs": [],
   "source": [
    "inn = [list(map(int,re.findall('\\d+',l))) for l in inp]"
   ]
  },
  {
   "cell_type": "code",
   "execution_count": 12,
   "id": "9d0f2e3c",
   "metadata": {},
   "outputs": [
    {
     "name": "stdout",
     "output_type": "stream",
     "text": [
      "[[0, 9, 5, 9], [8, 0, 0, 8], [9, 4, 3, 4], [2, 2, 2, 1]]\n"
     ]
    }
   ],
   "source": [
    "print(inn)"
   ]
  },
  {
   "cell_type": "code",
   "execution_count": 14,
   "id": "7672044f",
   "metadata": {},
   "outputs": [
    {
     "ename": "NameError",
     "evalue": "name 'sgn' is not defined",
     "output_type": "error",
     "traceback": [
      "\u001b[1;31m---------------------------------------------------------------------------\u001b[0m",
      "\u001b[1;31mNameError\u001b[0m                                 Traceback (most recent call last)",
      "\u001b[1;32m<ipython-input-14-1699cc871d56>\u001b[0m in \u001b[0;36m<module>\u001b[1;34m\u001b[0m\n\u001b[1;32m----> 1\u001b[1;33m \u001b[0msgn\u001b[0m\u001b[1;33m(\u001b[0m\u001b[1;36m4\u001b[0m\u001b[1;33m)\u001b[0m\u001b[1;33m\u001b[0m\u001b[1;33m\u001b[0m\u001b[0m\n\u001b[0m",
      "\u001b[1;31mNameError\u001b[0m: name 'sgn' is not defined"
     ]
    }
   ],
   "source": [
    "sgn(4)"
   ]
  },
  {
   "cell_type": "code",
   "execution_count": 1,
   "id": "96e3e3ce",
   "metadata": {},
   "outputs": [],
   "source": [
    "rows = 10"
   ]
  },
  {
   "cell_type": "code",
   "execution_count": 2,
   "id": "c5ef3786",
   "metadata": {},
   "outputs": [
    {
     "data": {
      "text/plain": [
       "True"
      ]
     },
     "execution_count": 2,
     "metadata": {},
     "output_type": "execute_result"
    }
   ],
   "source": [
    "4 in range(rows)"
   ]
  },
  {
   "cell_type": "code",
   "execution_count": 3,
   "id": "8fd6c788",
   "metadata": {},
   "outputs": [
    {
     "data": {
      "text/plain": [
       "False"
      ]
     },
     "execution_count": 3,
     "metadata": {},
     "output_type": "execute_result"
    }
   ],
   "source": [
    "-1 in range(rows)"
   ]
  },
  {
   "cell_type": "code",
   "execution_count": 4,
   "id": "aba55f1f",
   "metadata": {},
   "outputs": [
    {
     "data": {
      "text/plain": [
       "False"
      ]
     },
     "execution_count": 4,
     "metadata": {},
     "output_type": "execute_result"
    }
   ],
   "source": [
    "10 in range(rows)"
   ]
  },
  {
   "cell_type": "code",
   "execution_count": 11,
   "id": "4dec1768",
   "metadata": {},
   "outputs": [],
   "source": [
    "t = [[0,0,0],[0,0,0],[0,0,0]]"
   ]
  },
  {
   "cell_type": "code",
   "execution_count": 12,
   "id": "091a65d7",
   "metadata": {},
   "outputs": [
    {
     "data": {
      "text/plain": [
       "True"
      ]
     },
     "execution_count": 12,
     "metadata": {},
     "output_type": "execute_result"
    }
   ],
   "source": [
    "all(t)"
   ]
  },
  {
   "cell_type": "code",
   "execution_count": 13,
   "id": "12dd3824",
   "metadata": {},
   "outputs": [
    {
     "data": {
      "text/plain": [
       "[0, 0, 0]"
      ]
     },
     "execution_count": 13,
     "metadata": {},
     "output_type": "execute_result"
    }
   ],
   "source": [
    "t[0]"
   ]
  },
  {
   "cell_type": "code",
   "execution_count": 16,
   "id": "d8bd4a17",
   "metadata": {},
   "outputs": [
    {
     "data": {
      "text/plain": [
       "False"
      ]
     },
     "execution_count": 16,
     "metadata": {},
     "output_type": "execute_result"
    }
   ],
   "source": [
    "all(sum(r)==1 for r in t)"
   ]
  },
  {
   "cell_type": "code",
   "execution_count": 17,
   "id": "b6909085",
   "metadata": {},
   "outputs": [],
   "source": [
    "a = 'xx'"
   ]
  },
  {
   "cell_type": "code",
   "execution_count": 18,
   "id": "a0a31906",
   "metadata": {},
   "outputs": [
    {
     "data": {
      "text/plain": [
       "True"
      ]
     },
     "execution_count": 18,
     "metadata": {},
     "output_type": "execute_result"
    }
   ],
   "source": [
    "a.islower()"
   ]
  },
  {
   "cell_type": "code",
   "execution_count": 19,
   "id": "547936d6",
   "metadata": {},
   "outputs": [],
   "source": [
    "b = 'CC'"
   ]
  },
  {
   "cell_type": "code",
   "execution_count": 20,
   "id": "b7648d4d",
   "metadata": {},
   "outputs": [
    {
     "data": {
      "text/plain": [
       "False"
      ]
     },
     "execution_count": 20,
     "metadata": {},
     "output_type": "execute_result"
    }
   ],
   "source": [
    "b.islower()"
   ]
  },
  {
   "cell_type": "code",
   "execution_count": 21,
   "id": "342128d3",
   "metadata": {},
   "outputs": [],
   "source": [
    "tt = \"fold along x=655\""
   ]
  },
  {
   "cell_type": "code",
   "execution_count": 22,
   "id": "907bc713",
   "metadata": {},
   "outputs": [
    {
     "data": {
      "text/plain": [
       "['fold', 'along', 'x=655']"
      ]
     },
     "execution_count": 22,
     "metadata": {},
     "output_type": "execute_result"
    }
   ],
   "source": [
    "tt.split()"
   ]
  },
  {
   "cell_type": "code",
   "execution_count": 29,
   "id": "3b189c86",
   "metadata": {},
   "outputs": [],
   "source": [
    "a=[(1,1),(2,2)]"
   ]
  },
  {
   "cell_type": "code",
   "execution_count": 26,
   "id": "9cc285a7",
   "metadata": {},
   "outputs": [],
   "source": [
    "for i in a:\n",
    "    i[0] += 10"
   ]
  },
  {
   "cell_type": "code",
   "execution_count": 27,
   "id": "1ebc2f99",
   "metadata": {},
   "outputs": [
    {
     "data": {
      "text/plain": [
       "[[11, 1], [12, 2]]"
      ]
     },
     "execution_count": 27,
     "metadata": {},
     "output_type": "execute_result"
    }
   ],
   "source": [
    "a"
   ]
  },
  {
   "cell_type": "code",
   "execution_count": 30,
   "id": "51b0dda6",
   "metadata": {},
   "outputs": [
    {
     "data": {
      "text/plain": [
       "{(1, 1), (2, 2)}"
      ]
     },
     "execution_count": 30,
     "metadata": {},
     "output_type": "execute_result"
    }
   ],
   "source": [
    "set(a)"
   ]
  },
  {
   "cell_type": "code",
   "execution_count": 31,
   "id": "3b12d423",
   "metadata": {},
   "outputs": [],
   "source": [
    "ab = [1,2]"
   ]
  },
  {
   "cell_type": "code",
   "execution_count": 32,
   "id": "7b086e1c",
   "metadata": {},
   "outputs": [
    {
     "name": "stdout",
     "output_type": "stream",
     "text": [
      "None\n"
     ]
    }
   ],
   "source": [
    "print(ab.append(3))"
   ]
  },
  {
   "cell_type": "code",
   "execution_count": 35,
   "id": "72763a01",
   "metadata": {},
   "outputs": [],
   "source": [
    "ab = [1,2]"
   ]
  },
  {
   "cell_type": "code",
   "execution_count": 36,
   "id": "043ac521",
   "metadata": {},
   "outputs": [
    {
     "ename": "TypeError",
     "evalue": "can only concatenate list (not \"int\") to list",
     "output_type": "error",
     "traceback": [
      "\u001b[1;31m---------------------------------------------------------------------------\u001b[0m",
      "\u001b[1;31mTypeError\u001b[0m                                 Traceback (most recent call last)",
      "\u001b[1;32m<ipython-input-36-76579f070cdc>\u001b[0m in \u001b[0;36m<module>\u001b[1;34m\u001b[0m\n\u001b[1;32m----> 1\u001b[1;33m \u001b[0mab\u001b[0m \u001b[1;33m+\u001b[0m \u001b[1;36m3\u001b[0m\u001b[1;33m\u001b[0m\u001b[1;33m\u001b[0m\u001b[0m\n\u001b[0m",
      "\u001b[1;31mTypeError\u001b[0m: can only concatenate list (not \"int\") to list"
     ]
    }
   ],
   "source": [
    "ab + 3"
   ]
  },
  {
   "cell_type": "code",
   "execution_count": 37,
   "id": "2484fd11",
   "metadata": {},
   "outputs": [
    {
     "name": "stdout",
     "output_type": "stream",
     "text": [
      "[1, 2]\n"
     ]
    }
   ],
   "source": [
    "print(ab)"
   ]
  },
  {
   "cell_type": "code",
   "execution_count": 38,
   "id": "be364ff4",
   "metadata": {},
   "outputs": [
    {
     "data": {
      "text/plain": [
       "[1, 2, 3]"
      ]
     },
     "execution_count": 38,
     "metadata": {},
     "output_type": "execute_result"
    }
   ],
   "source": [
    "ab + [3]\n"
   ]
  },
  {
   "cell_type": "code",
   "execution_count": 40,
   "id": "f0838ef5",
   "metadata": {},
   "outputs": [],
   "source": [
    "ts = set({'a','b'})"
   ]
  },
  {
   "cell_type": "code",
   "execution_count": 42,
   "id": "d9775543",
   "metadata": {},
   "outputs": [
    {
     "name": "stdout",
     "output_type": "stream",
     "text": [
      "{'b', 'c', 'a'}\n"
     ]
    }
   ],
   "source": [
    "print(ts | {'c'})"
   ]
  },
  {
   "cell_type": "code",
   "execution_count": 43,
   "id": "31a496cc",
   "metadata": {},
   "outputs": [],
   "source": [
    "al = ['a','b','c']\n",
    "aset = set({'a','b'})"
   ]
  },
  {
   "cell_type": "code",
   "execution_count": 44,
   "id": "eae4e9e2",
   "metadata": {},
   "outputs": [
    {
     "ename": "NameError",
     "evalue": "name 'le' is not defined",
     "output_type": "error",
     "traceback": [
      "\u001b[1;31m---------------------------------------------------------------------------\u001b[0m",
      "\u001b[1;31mNameError\u001b[0m                                 Traceback (most recent call last)",
      "\u001b[1;32m<ipython-input-44-82364f8b9b07>\u001b[0m in \u001b[0;36m<module>\u001b[1;34m\u001b[0m\n\u001b[1;32m----> 1\u001b[1;33m \u001b[0mabb\u001b[0m \u001b[1;33m=\u001b[0m \u001b[1;33m[\u001b[0m\u001b[1;36m1\u001b[0m \u001b[1;32mif\u001b[0m \u001b[0mse\u001b[0m \u001b[1;32min\u001b[0m \u001b[0mle\u001b[0m \u001b[1;32melse\u001b[0m \u001b[1;36m0\u001b[0m \u001b[1;32mfor\u001b[0m \u001b[0mse\u001b[0m \u001b[1;32min\u001b[0m \u001b[0maset\u001b[0m \u001b[1;33m]\u001b[0m\u001b[1;33m\u001b[0m\u001b[1;33m\u001b[0m\u001b[0m\n\u001b[0m",
      "\u001b[1;32m<ipython-input-44-82364f8b9b07>\u001b[0m in \u001b[0;36m<listcomp>\u001b[1;34m(.0)\u001b[0m\n\u001b[1;32m----> 1\u001b[1;33m \u001b[0mabb\u001b[0m \u001b[1;33m=\u001b[0m \u001b[1;33m[\u001b[0m\u001b[1;36m1\u001b[0m \u001b[1;32mif\u001b[0m \u001b[0mse\u001b[0m \u001b[1;32min\u001b[0m \u001b[0mle\u001b[0m \u001b[1;32melse\u001b[0m \u001b[1;36m0\u001b[0m \u001b[1;32mfor\u001b[0m \u001b[0mse\u001b[0m \u001b[1;32min\u001b[0m \u001b[0maset\u001b[0m \u001b[1;33m]\u001b[0m\u001b[1;33m\u001b[0m\u001b[1;33m\u001b[0m\u001b[0m\n\u001b[0m",
      "\u001b[1;31mNameError\u001b[0m: name 'le' is not defined"
     ]
    }
   ],
   "source": [
    "abb = [1 if se in al else 0 for se in aset ]"
   ]
  },
  {
   "cell_type": "code",
   "execution_count": null,
   "id": "d4cbbc59",
   "metadata": {},
   "outputs": [],
   "source": []
  }
 ],
 "metadata": {
  "kernelspec": {
   "display_name": "Python 3",
   "language": "python",
   "name": "python3"
  },
  "language_info": {
   "codemirror_mode": {
    "name": "ipython",
    "version": 3
   },
   "file_extension": ".py",
   "mimetype": "text/x-python",
   "name": "python",
   "nbconvert_exporter": "python",
   "pygments_lexer": "ipython3",
   "version": "3.8.8"
  }
 },
 "nbformat": 4,
 "nbformat_minor": 5
}
