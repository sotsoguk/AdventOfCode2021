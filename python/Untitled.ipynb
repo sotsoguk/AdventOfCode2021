{
 "cells": [
  {
   "cell_type": "code",
   "execution_count": 5,
   "id": "c2359399",
   "metadata": {},
   "outputs": [],
   "source": [
    "st = \"01,93 -> 5,9\"\n"
   ]
  },
  {
   "cell_type": "code",
   "execution_count": 6,
   "id": "29a8a412",
   "metadata": {},
   "outputs": [],
   "source": [
    "import re"
   ]
  },
  {
   "cell_type": "code",
   "execution_count": 7,
   "id": "e8e88693",
   "metadata": {},
   "outputs": [
    {
     "data": {
      "text/plain": [
       "['01', '93', '5', '9']"
      ]
     },
     "execution_count": 7,
     "metadata": {},
     "output_type": "execute_result"
    }
   ],
   "source": [
    "re.findall('\\d+',st)"
   ]
  },
  {
   "cell_type": "code",
   "execution_count": 8,
   "id": "84efe8dc",
   "metadata": {},
   "outputs": [],
   "source": [
    "inp = [\"0,9 -> 5,9\",\n",
    "\"8,0 -> 0,8\",\n",
    "\"9,4 -> 3,4\",\n",
    "\"2,2 -> 2,1\"]"
   ]
  },
  {
   "cell_type": "code",
   "execution_count": 11,
   "id": "2bad8fcc",
   "metadata": {},
   "outputs": [],
   "source": [
    "inn = [list(map(int,re.findall('\\d+',l))) for l in inp]"
   ]
  },
  {
   "cell_type": "code",
   "execution_count": 12,
   "id": "9d0f2e3c",
   "metadata": {},
   "outputs": [
    {
     "name": "stdout",
     "output_type": "stream",
     "text": [
      "[[0, 9, 5, 9], [8, 0, 0, 8], [9, 4, 3, 4], [2, 2, 2, 1]]\n"
     ]
    }
   ],
   "source": [
    "print(inn)"
   ]
  },
  {
   "cell_type": "code",
   "execution_count": 14,
   "id": "7672044f",
   "metadata": {},
   "outputs": [
    {
     "ename": "NameError",
     "evalue": "name 'sgn' is not defined",
     "output_type": "error",
     "traceback": [
      "\u001b[1;31m---------------------------------------------------------------------------\u001b[0m",
      "\u001b[1;31mNameError\u001b[0m                                 Traceback (most recent call last)",
      "\u001b[1;32m<ipython-input-14-1699cc871d56>\u001b[0m in \u001b[0;36m<module>\u001b[1;34m\u001b[0m\n\u001b[1;32m----> 1\u001b[1;33m \u001b[0msgn\u001b[0m\u001b[1;33m(\u001b[0m\u001b[1;36m4\u001b[0m\u001b[1;33m)\u001b[0m\u001b[1;33m\u001b[0m\u001b[1;33m\u001b[0m\u001b[0m\n\u001b[0m",
      "\u001b[1;31mNameError\u001b[0m: name 'sgn' is not defined"
     ]
    }
   ],
   "source": [
    "sgn(4)"
   ]
  },
  {
   "cell_type": "code",
   "execution_count": 1,
   "id": "96e3e3ce",
   "metadata": {},
   "outputs": [],
   "source": [
    "rows = 10"
   ]
  },
  {
   "cell_type": "code",
   "execution_count": 2,
   "id": "51c9e611",
   "metadata": {},
   "outputs": [
    {
     "data": {
      "text/plain": [
       "True"
      ]
     },
     "execution_count": 2,
     "metadata": {},
     "output_type": "execute_result"
    }
   ],
   "source": [
    "4 in range(rows)"
   ]
  },
  {
   "cell_type": "code",
   "execution_count": 3,
   "id": "e8661afe",
   "metadata": {},
   "outputs": [
    {
     "data": {
      "text/plain": [
       "False"
      ]
     },
     "execution_count": 3,
     "metadata": {},
     "output_type": "execute_result"
    }
   ],
   "source": [
    "-1 in range(rows)"
   ]
  },
  {
   "cell_type": "code",
   "execution_count": 4,
   "id": "5b628684",
   "metadata": {},
   "outputs": [
    {
     "data": {
      "text/plain": [
       "False"
      ]
     },
     "execution_count": 4,
     "metadata": {},
     "output_type": "execute_result"
    }
   ],
   "source": [
    "10 in range(rows)"
   ]
  },
  {
   "cell_type": "code",
   "execution_count": 11,
   "id": "25136efa",
   "metadata": {},
   "outputs": [],
   "source": [
    "t = [[0,0,0],[0,0,0],[0,0,0]]"
   ]
  },
  {
   "cell_type": "code",
   "execution_count": 12,
   "id": "9cacf00b",
   "metadata": {},
   "outputs": [
    {
     "data": {
      "text/plain": [
       "True"
      ]
     },
     "execution_count": 12,
     "metadata": {},
     "output_type": "execute_result"
    }
   ],
   "source": [
    "all(t)"
   ]
  },
  {
   "cell_type": "code",
   "execution_count": 13,
   "id": "9abfcb7a",
   "metadata": {},
   "outputs": [
    {
     "data": {
      "text/plain": [
       "[0, 0, 0]"
      ]
     },
     "execution_count": 13,
     "metadata": {},
     "output_type": "execute_result"
    }
   ],
   "source": [
    "t[0]"
   ]
  },
  {
   "cell_type": "code",
   "execution_count": 16,
   "id": "e3a4c5ec",
   "metadata": {},
   "outputs": [
    {
     "data": {
      "text/plain": [
       "False"
      ]
     },
     "execution_count": 16,
     "metadata": {},
     "output_type": "execute_result"
    }
   ],
   "source": [
    "all(sum(r)==1 for r in t)"
   ]
  },
  {
   "cell_type": "code",
   "execution_count": 17,
   "id": "1d2799df",
   "metadata": {},
   "outputs": [],
   "source": [
    "a = 'xx'"
   ]
  },
  {
   "cell_type": "code",
   "execution_count": 18,
   "id": "f60ccaba",
   "metadata": {},
   "outputs": [
    {
     "data": {
      "text/plain": [
       "True"
      ]
     },
     "execution_count": 18,
     "metadata": {},
     "output_type": "execute_result"
    }
   ],
   "source": [
    "a.islower()"
   ]
  },
  {
   "cell_type": "code",
   "execution_count": 19,
   "id": "05721de6",
   "metadata": {},
   "outputs": [],
   "source": [
    "b = 'CC'"
   ]
  },
  {
   "cell_type": "code",
   "execution_count": 20,
   "id": "f76cd3bb",
   "metadata": {},
   "outputs": [
    {
     "data": {
      "text/plain": [
       "False"
      ]
     },
     "execution_count": 20,
     "metadata": {},
     "output_type": "execute_result"
    }
   ],
   "source": [
    "b.islower()"
   ]
  },
  {
   "cell_type": "code",
   "execution_count": 21,
   "id": "7d49cd9f",
   "metadata": {},
   "outputs": [],
   "source": [
    "tt = \"fold along x=655\""
   ]
  },
  {
   "cell_type": "code",
   "execution_count": 22,
   "id": "69b36bac",
   "metadata": {},
   "outputs": [
    {
     "data": {
      "text/plain": [
       "['fold', 'along', 'x=655']"
      ]
     },
     "execution_count": 22,
     "metadata": {},
     "output_type": "execute_result"
    }
   ],
   "source": [
    "tt.split()"
   ]
  },
  {
   "cell_type": "code",
   "execution_count": 29,
   "id": "c255a5b8",
   "metadata": {},
   "outputs": [],
   "source": [
    "a=[(1,1),(2,2)]"
   ]
  },
  {
   "cell_type": "code",
   "execution_count": 26,
   "id": "8cd0d6f8",
   "metadata": {},
   "outputs": [],
   "source": [
    "for i in a:\n",
    "    i[0] += 10"
   ]
  },
  {
   "cell_type": "code",
   "execution_count": 27,
   "id": "b7be4320",
   "metadata": {},
   "outputs": [
    {
     "data": {
      "text/plain": [
       "[[11, 1], [12, 2]]"
      ]
     },
     "execution_count": 27,
     "metadata": {},
     "output_type": "execute_result"
    }
   ],
   "source": [
    "a"
   ]
  },
  {
   "cell_type": "code",
   "execution_count": 30,
   "id": "a7d2d66c",
   "metadata": {},
   "outputs": [
    {
     "data": {
      "text/plain": [
       "{(1, 1), (2, 2)}"
      ]
     },
     "execution_count": 30,
     "metadata": {},
     "output_type": "execute_result"
    }
   ],
   "source": [
    "set(a)"
   ]
  },
  {
   "cell_type": "code",
   "execution_count": 31,
   "id": "05ae506f",
   "metadata": {},
   "outputs": [],
   "source": [
    "ab = [1,2]"
   ]
  },
  {
   "cell_type": "code",
   "execution_count": 32,
   "id": "7f6dc84c",
   "metadata": {},
   "outputs": [
    {
     "name": "stdout",
     "output_type": "stream",
     "text": [
      "None\n"
     ]
    }
   ],
   "source": [
    "print(ab.append(3))"
   ]
  },
  {
   "cell_type": "code",
   "execution_count": 35,
   "id": "0f65993c",
   "metadata": {},
   "outputs": [],
   "source": [
    "ab = [1,2]"
   ]
  },
  {
   "cell_type": "code",
   "execution_count": 36,
   "id": "c6e9d94e",
   "metadata": {},
   "outputs": [
    {
     "ename": "TypeError",
     "evalue": "can only concatenate list (not \"int\") to list",
     "output_type": "error",
     "traceback": [
      "\u001b[1;31m---------------------------------------------------------------------------\u001b[0m",
      "\u001b[1;31mTypeError\u001b[0m                                 Traceback (most recent call last)",
      "\u001b[1;32m<ipython-input-36-76579f070cdc>\u001b[0m in \u001b[0;36m<module>\u001b[1;34m\u001b[0m\n\u001b[1;32m----> 1\u001b[1;33m \u001b[0mab\u001b[0m \u001b[1;33m+\u001b[0m \u001b[1;36m3\u001b[0m\u001b[1;33m\u001b[0m\u001b[1;33m\u001b[0m\u001b[0m\n\u001b[0m",
      "\u001b[1;31mTypeError\u001b[0m: can only concatenate list (not \"int\") to list"
     ]
    }
   ],
   "source": [
    "ab + 3"
   ]
  },
  {
   "cell_type": "code",
   "execution_count": 37,
   "id": "8088a42c",
   "metadata": {},
   "outputs": [
    {
     "name": "stdout",
     "output_type": "stream",
     "text": [
      "[1, 2]\n"
     ]
    }
   ],
   "source": [
    "print(ab)"
   ]
  },
  {
   "cell_type": "code",
   "execution_count": 38,
   "id": "83b1c994",
   "metadata": {},
   "outputs": [
    {
     "data": {
      "text/plain": [
       "[1, 2, 3]"
      ]
     },
     "execution_count": 38,
     "metadata": {},
     "output_type": "execute_result"
    }
   ],
   "source": [
    "ab + [3]\n"
   ]
  },
  {
   "cell_type": "code",
   "execution_count": 40,
   "id": "4b4f771e",
   "metadata": {},
   "outputs": [],
   "source": [
    "ts = set({'a','b'})"
   ]
  },
  {
   "cell_type": "code",
   "execution_count": 42,
   "id": "2f072472",
   "metadata": {},
   "outputs": [
    {
     "name": "stdout",
     "output_type": "stream",
     "text": [
      "{'b', 'c', 'a'}\n"
     ]
    }
   ],
   "source": [
    "print(ts | {'c'})"
   ]
  },
  {
   "cell_type": "code",
   "execution_count": 47,
   "id": "7ee22981",
   "metadata": {},
   "outputs": [],
   "source": [
    "al = ['a','b','c','a']\n",
    "aset = set({'a','b'})"
   ]
  },
  {
   "cell_type": "code",
   "execution_count": 45,
   "id": "f180dbbb",
   "metadata": {},
   "outputs": [],
   "source": [
    "abb = [1 if se in al else 0 for se in aset ]"
   ]
  },
  {
   "cell_type": "code",
   "execution_count": 46,
   "id": "1663784c",
   "metadata": {},
   "outputs": [
    {
     "data": {
      "text/plain": [
       "[1, 1]"
      ]
     },
     "execution_count": 46,
     "metadata": {},
     "output_type": "execute_result"
    }
   ],
   "source": [
    "abb"
   ]
  },
  {
   "cell_type": "code",
   "execution_count": 51,
   "id": "8afbea7d",
   "metadata": {},
   "outputs": [
    {
     "data": {
      "text/plain": [
       "2"
      ]
     },
     "execution_count": 51,
     "metadata": {},
     "output_type": "execute_result"
    }
   ],
   "source": [
    "sum(1 if i == 'a' else 0 for i in al)"
   ]
  },
  {
   "cell_type": "code",
   "execution_count": 52,
   "id": "c0009d29",
   "metadata": {},
   "outputs": [],
   "source": [
    "t = \"AB\""
   ]
  },
  {
   "cell_type": "code",
   "execution_count": 53,
   "id": "024ddc1a",
   "metadata": {},
   "outputs": [],
   "source": [
    "newEleme = \"C\""
   ]
  },
  {
   "cell_type": "code",
   "execution_count": 54,
   "id": "b4c998ee",
   "metadata": {},
   "outputs": [
    {
     "data": {
      "text/plain": [
       "'AC'"
      ]
     },
     "execution_count": 54,
     "metadata": {},
     "output_type": "execute_result"
    }
   ],
   "source": [
    "t[0] + newEleme"
   ]
  },
  {
   "cell_type": "code",
   "execution_count": 55,
   "id": "60a26eb0",
   "metadata": {},
   "outputs": [],
   "source": [
    "a = {'A':2,'B':3,'C':5}"
   ]
  },
  {
   "cell_type": "code",
   "execution_count": 56,
   "id": "fd564fec",
   "metadata": {},
   "outputs": [
    {
     "data": {
      "text/plain": [
       "10"
      ]
     },
     "execution_count": 56,
     "metadata": {},
     "output_type": "execute_result"
    }
   ],
   "source": [
    "sum(a.values())"
   ]
  },
  {
   "cell_type": "code",
   "execution_count": 58,
   "id": "d272839a",
   "metadata": {},
   "outputs": [
    {
     "data": {
      "text/plain": [
       "5"
      ]
     },
     "execution_count": 58,
     "metadata": {},
     "output_type": "execute_result"
    }
   ],
   "source": [
    "max(sorted(list(a.values())))"
   ]
  },
  {
   "cell_type": "code",
   "execution_count": 59,
   "id": "15d1ff2b",
   "metadata": {},
   "outputs": [],
   "source": [
    "t = \"ABCDEFGH\"\n"
   ]
  },
  {
   "cell_type": "code",
   "execution_count": 60,
   "id": "7f19597c",
   "metadata": {},
   "outputs": [
    {
     "name": "stdout",
     "output_type": "stream",
     "text": [
      "AB\n",
      "BC\n",
      "CD\n",
      "DE\n",
      "EF\n",
      "FG\n",
      "GH\n"
     ]
    }
   ],
   "source": [
    "for (a,b) in zip(t,t[1:]):\n",
    "    print(a+b)"
   ]
  },
  {
   "cell_type": "code",
   "execution_count": 63,
   "id": "0b061a58",
   "metadata": {},
   "outputs": [],
   "source": [
    "lines = [\"a,b\",\"c,d\",\"\",\"a,c\"]"
   ]
  },
  {
   "cell_type": "code",
   "execution_count": 64,
   "id": "de400e61",
   "metadata": {},
   "outputs": [
    {
     "data": {
      "text/plain": [
       "2"
      ]
     },
     "execution_count": 64,
     "metadata": {},
     "output_type": "execute_result"
    }
   ],
   "source": [
    "lines.index(\"\")"
   ]
  },
  {
   "cell_type": "code",
   "execution_count": 65,
   "id": "a247af81",
   "metadata": {},
   "outputs": [],
   "source": [
    "dots = [(23, 1), (30, 5), (20, 4), (28, 1), (5, 2), (23, 1), (38, 5), (10, 1), (0, 1), (0, 2), (23, 1), (10, 5), (0, 1), (20, 4), (6, 5), (23, 5), (35, 4), (5, 3), (5, 2), (30, 1), (30, 5), (22, 3), (12, 3), (20, 0), (6, 5), (26, 2), (3, 3), (20, 3), (5, 2), (31, 0), (22, 4), (21, 0), (5, 1), (0, 4), (2, 5), (1, 5), (20, 3), (0, 2), (25, 4), (17, 0), (0, 0), (0, 1), (22, 4), (2, 5), (37, 0), (18, 3), (12, 1), (18, 0), (0, 1), (33, 3), (5, 2), (18, 0), (18, 4), (10, 0), (23, 5), (17, 0), (13, 0), (21, 3), (12, 3), (38, 3), (28, 1), (5, 0), (20, 4), (23, 1), (25, 3), (1, 2), (31, 0), (31, 0), (28, 4), (32, 3), (28, 1), (10, 1), (23, 5), (25, 5), (5, 5), (0, 1), (0, 5), (25, 3), (12, 3), (12, 3), (36, 0), (0, 0), (20, 4), (20, 2), (6, 5), (5, 5), (0, 1), (10, 2), (5, 4), (12, 1), (17, 0), (23, 1), (0, 3), (25, 3), (25, 1), (16, 5), (5, 2), (32, 0), (16, 5), (38, 1), (32, 3), (25, 4), (33, 1), (1, 0), (23, 2), (5, 3), (12, 3), (5, 1), (38, 5), (25, 2), (35, 4), (28, 1), (10, 4), (21, 0), (8, 5), (25, 5), (0, 1), (15, 4), (30, 3), (2, 5), (0, 3), (6, 5), (25, 4), (33, 1), (6, 5), (0, 2), (25, 1), (25, 1), (1, 0), (25, 4), (13, 5), (38, 5), (1, 2), (0, 4), (30, 5), (8, 5), (38, 3), (32, 0), (0, 2), (31, 0), (27, 5), (12, 3), (32, 0), (7, 5), (28, 1), (23, 5), (18, 1), (30, 1), (31, 0), (5, 1), (18, 1), (10, 3), (18, 2), (1, 0), (16, 5), (20, 1), (28, 3), (1, 0), (33, 2), (18, 1), (5, 2), (37, 0), (32, 0), (26, 0), (10, 4), (38, 3), (30, 5), (10, 3), (18, 4), (25, 1), (17, 5), (6, 5), (0, 1), (20, 4), (10, 3), (5, 0), (12, 3), (5, 1), (3, 4), (30, 4), (7, 5), (3, 1), (8, 5), (6, 5), (17, 0), (18, 0), (7, 5), (33, 1), (18, 4), (0, 4), (12, 4), (5, 3), (12, 1), (23, 1), (38, 1), (15, 4), (0, 5), (2, 5), (20, 3), (21, 3), (27, 5), (0, 3), (25, 3), (6, 5), (20, 3), (18, 1), (0, 1), (0, 2), (28, 1), (10, 2), (26, 2), (20, 3), (33, 3), (32, 0), (1, 5), (23, 1), (38, 3), (20, 4), (25, 4), (12, 3), (32, 0), (5, 4), (3, 1), (0, 0), (38, 5), (23, 1), (5, 4), (13, 5), (28, 3), (16, 5), (5, 4), (28, 1), (30, 5), (35, 4), (31, 0), (5, 5), (38, 4), (18, 0), (32, 3), (23, 5), (1, 2), (13, 5), (20, 4), (0, 1), (0, 2), (8, 5), (8, 5), (26, 0), (23, 5), (10, 4), (30, 2), (32, 0), (7, 5), (26, 0), (10, 3), (1, 0), (30, 5), (35, 2), (12, 1), (32, 0), (0, 1), (20, 0), (0, 2), (26, 0), (26, 0), (38, 5), (0, 1), (38, 1), (1, 5), (36, 0), (35, 3), (30, 5), (25, 1), (17, 5), (27, 0), (5, 1), (23, 5), (12, 1), (18, 4), (12, 1), (16, 5), (30, 1), (18, 3), (28, 1), (0, 1), (23, 5), (1, 0), (16, 5), (5, 4), (27, 2), (3, 4), (2, 5), (18, 0), (5, 2), (30, 1), (8, 5), (15, 4), (0, 1), (3, 1), (33, 1), (23, 5), (15, 4), (23, 1), (27, 2), (30, 1), (10, 3), (36, 0), (6, 5), (33, 1), (10, 5), (30, 5), (0, 2), (36, 0), (1, 2), (37, 5), (32, 3), (26, 0), (12, 3), (18, 0), (20, 1), (30, 5), (0, 2), (0, 3), (35, 3), (20, 4), (32, 3), (38, 5), (20, 4), (38, 3), (10, 3), (26, 0), (1, 0), (1, 0), (2, 5), (32, 0), (10, 3), (28, 1), (28, 1), (1, 5), (5, 4), (18, 1), (25, 3), (22, 0), (5, 3), (18, 0), (25, 4), (5, 1), (27, 0), (35, 3), (0, 3), (31, 0), (20, 1), (1, 0), (5, 5), (1, 5), (28, 1), (28, 4), (0, 0), (20, 3), (0, 1), (20, 4), (28, 3), (30, 5), (25, 4), (0, 2), (0, 1), (25, 5), (2, 5), (20, 1), (0, 1), (5, 2), (38, 3), (5, 1), (15, 4), (17, 5), (38, 1), (10, 3), (0, 1), (5, 1), (32, 0), (5, 1), (22, 3), (8, 5), (5, 1), (38, 3), (0, 2), (20, 5), (5, 2), (32, 0), (35, 3), (2, 5), (5, 1), (35, 2), (30, 4), (26, 0), (21, 3), (18, 1), (20, 3), (22, 4), (0, 0), (8, 5), (0, 2), (33, 4), (37, 0), (5, 1), (3, 3), (5, 0), (23, 5), (30, 5), (30, 4), (23, 5), (37, 0), (5, 1), (33, 1), (25, 1), (5, 0), (20, 4), (5, 4), (5, 0), (23, 1), (1, 0), (10, 2), (0, 4), (0, 0), (6, 5), (12, 1), (18, 1), (20, 4), (18, 2), (38, 5), (26, 0), (20, 5), (20, 2), (32, 0), (33, 3), (10, 3), (1, 0), (2, 5), (12, 1), (18, 4), (16, 5), (20, 3), (5, 0), (18, 4), (23, 5), (30, 5), (38, 4), (22, 0), (5, 0), (23, 5), (27, 5), (0, 4), (0, 0), (23, 2), (6, 5), (0, 0), (0, 2), (20, 4), (20, 4), (1, 0), (32, 0), (13, 5), (20, 4), (23, 1), (23, 5), (17, 5), (12, 4), (28, 1), (26, 0), (32, 0), (25, 4), (17, 5), (0, 2), (25, 3), (8, 5), (0, 3), (12, 1), (23, 5), (17, 5), (23, 1), (18, 4), (30, 4), (6, 5), (18, 0), (28, 1), (16, 5), (1, 0), (30, 5), (0, 1), (5, 2), (23, 5), (22, 4), (28, 1), (25, 4), (25, 1), (32, 3), (18, 0), (23, 1), (16, 5), (1, 2), (23, 1), (20, 1), (35, 4), (22, 4), (27, 2), (25, 5), (31, 0), (38, 5), (1, 2), (22, 3), (1, 0), (0, 2), (38, 4), (18, 0), (12, 3), (12, 3), (20, 4), (32, 0), (25, 3), (23, 5), (25, 4), (0, 2), (17, 0), (13, 5), (25, 3), (20, 3), (7, 5), (20, 3), (11, 2), (0, 1), (25, 2), (18, 4), (25, 0), (28, 3), (18, 4), (30, 4), (0, 1), (26, 5), (20, 4), (3, 1), (30, 3), (37, 0), (18, 3), (31, 0), (32, 0), (12, 3), (1, 0), (13, 5), (20, 4), (22, 3), (0, 1), (25, 4), (5, 5), (12, 4), (20, 1), (8, 5), (33, 1), (10, 1), (38, 3), (28, 1), (26, 0), (23, 5), (31, 0), (12, 3), (6, 5), (0, 4), (23, 5), (5, 4), (25, 3), (16, 5), (31, 0), (33, 3), (20, 4), (23, 5), (17, 0), (25, 2), (23, 1), (15, 4), (37, 5), (23, 1), (0, 4), (1, 5), (30, 5), (35, 3), (3, 1), (31, 0), (0, 4), (10, 3), (18, 4), (6, 5), (30, 2), (12, 4), (23, 1), (18, 4), (22, 4), (18, 1), (2, 5), (25, 3), (5, 4), (31, 3), (38, 4), (25, 1), (25, 1), (23, 1), (25, 3), (7, 5), (36, 5), (28, 3), (13, 5), (20, 4), (31, 0), (18, 3), (32, 0), (7, 5), (20, 1), (12, 4), (35, 3), (10, 3), (6, 5), (32, 3), (25, 4), (0, 1), (8, 5), (25, 4), (35, 4), (26, 0), (5, 1), (33, 5), (2, 5), (5, 5), (18, 1), (10, 2), (20, 5), (25, 2), (5, 4), (23, 1), (5, 0), (1, 0), (2, 5), (3, 1), (20, 1), (0, 2), (20, 4), (18, 3), (20, 4), (16, 5), (5, 1), (6, 5), (26, 0), (37, 0), (31, 0), (32, 0), (5, 1), (20, 1), (28, 3), (31, 0), (32, 0), (13, 0), (10, 1), (12, 3), (37, 3), (30, 5), (32, 0), (1, 0), (33, 3), (35, 1), (38, 4), (38, 3), (23, 5), (8, 5), (38, 3), (30, 1), (16, 5), (28, 1), (33, 5), (37, 3), (32, 3), (18, 0), (28, 1), (0, 2), (20, 4), (0, 5), (12, 1), (37, 5), (30, 5), (1, 2), (22, 4), (2, 0), (20, 4), (25, 4), (27, 5), (12, 1), (18, 0), (30, 1), (23, 5), (10, 5), (0, 1), (0, 4), (27, 0), (1, 0), (5, 3), (0, 3), (23, 5), (20, 1), (5, 0), (37, 0), (35, 3), (18, 2), (16, 5), (23, 5), (0, 1), (31, 0), (10, 2), (38, 1), (5, 1), (28, 1), (10, 2), (2, 5), (38, 4), (0, 2), (0, 2), (12, 3), (20, 4), (0, 1), (17, 5), (16, 5), (25, 1), (5, 1), (26, 0), (30, 4), (21, 3), (38, 3), (35, 3), (25, 4), (35, 4), (26, 0), (10, 2), (23, 5), (5, 0), (5, 5), (10, 1), (5, 4), (5, 2), (30, 4), (33, 3), (23, 1), (5, 4), (33, 2), (23, 5), (37, 3), (3, 1), (20, 3), (33, 2), (0, 2), (17, 5), (6, 5), (0, 3), (13, 5), (27, 2), (16, 5), (36, 0), (3, 1), (22, 3), (17, 0), (5, 4), (31, 0), (6, 5), (23, 1), (10, 3), (1, 2), (1, 0), (0, 1), (27, 5), (28, 1), (10, 1), (30, 1), (5, 3), (20, 4), (16, 5), (38, 1), (25, 4), (0, 2), (6, 5), (33, 3), (0, 2), (10, 2), (25, 4), (31, 0), (31, 0), (12, 3), (32, 0), (2, 0), (12, 3), (6, 5), (28, 1), (32, 0), (1, 0), (18, 1), (23, 5), (0, 1), (1, 0), (13, 0), (23, 5), (30, 1), (10, 4), (18, 0), (0, 2), (23, 5), (26, 5), (5, 3), (23, 2), (0, 1), (26, 0), (28, 1), (28, 1), (2, 2), (13, 5), (22, 0), (27, 0), (33, 5), (28, 1), (16, 5), (38, 3), (22, 0), (26, 0), (13, 5), (13, 5), (23, 5), (0, 1), (10, 3), (12, 3), (22, 4), (12, 1), (38, 5), (1, 5), (10, 2), (10, 3), (25, 2), (25, 4), (8, 5), (17, 5), (1, 2), (5, 1), (32, 0), (0, 4), (23, 2), (25, 3), (22, 4), (28, 1), (26, 5), (3, 4), (22, 0), (5, 3), (33, 2), (10, 2), (20, 4), (10, 4), (12, 1), (0, 3), (32, 3), (0, 2), (30, 5), (38, 1), (20, 4), (18, 2), (18, 1), (12, 4), (20, 3), (31, 0), (1, 2), (38, 5), (21, 3), (32, 0), (26, 5), (25, 1), (12, 3), (5, 5), (6, 5), (12, 3), (32, 0), (20, 4), (0, 4), (25, 3), (13, 5), (25, 0), (0, 3), (30, 5)]"
   ]
  },
  {
   "cell_type": "code",
   "execution_count": 66,
   "id": "9bf56580",
   "metadata": {},
   "outputs": [
    {
     "ename": "NameError",
     "evalue": "name 'plot' is not defined",
     "output_type": "error",
     "traceback": [
      "\u001b[1;31m---------------------------------------------------------------------------\u001b[0m",
      "\u001b[1;31mNameError\u001b[0m                                 Traceback (most recent call last)",
      "\u001b[1;32m<ipython-input-66-1da17c596fd9>\u001b[0m in \u001b[0;36m<module>\u001b[1;34m\u001b[0m\n\u001b[1;32m----> 1\u001b[1;33m \u001b[0mplot\u001b[0m\u001b[1;33m(\u001b[0m\u001b[0mdots\u001b[0m\u001b[1;33m)\u001b[0m\u001b[1;33m\u001b[0m\u001b[1;33m\u001b[0m\u001b[0m\n\u001b[0m",
      "\u001b[1;31mNameError\u001b[0m: name 'plot' is not defined"
     ]
    }
   ],
   "source": [
    "plot(dots)"
   ]
  },
  {
   "cell_type": "code",
   "execution_count": 67,
   "id": "bced61cb",
   "metadata": {},
   "outputs": [],
   "source": [
    "import numpy as np"
   ]
  },
  {
   "cell_type": "code",
   "execution_count": 68,
   "id": "c56bf7bf",
   "metadata": {},
   "outputs": [],
   "source": [
    "import matplotlib.pyplot as plt"
   ]
  },
  {
   "cell_type": "code",
   "execution_count": 70,
   "id": "d5dd442f",
   "metadata": {},
   "outputs": [
    {
     "data": {
      "text/plain": [
       "[<matplotlib.lines.Line2D at 0x20e5264b7c0>,\n",
       " <matplotlib.lines.Line2D at 0x20e5264b880>]"
      ]
     },
     "execution_count": 70,
     "metadata": {},
     "output_type": "execute_result"
    },
    {
     "data": {
      "image/png": "[encoded data removed]",
      "text/plain": [
       "<Figure size 432x288 with 1 Axes>"
      ]
     },
     "metadata": {
      "needs_background": "light"
     },
     "output_type": "display_data"
    }
   ],
   "source": [
    "plt.plot(dots)"
   ]
  },
  {
   "cell_type": "code",
   "execution_count": 71,
   "id": "b13cfd8c",
   "metadata": {},
   "outputs": [],
   "source": [
    "x = [a for a,_ in dots]"
   ]
  },
  {
   "cell_type": "code",
   "execution_count": 73,
   "id": "c9bcd485",
   "metadata": {},
   "outputs": [],
   "source": [
    "y = [b for _,b in dots]"
   ]
  },
  {
   "cell_type": "code",
   "execution_count": 76,
   "id": "943b5671",
   "metadata": {},
   "outputs": [
    {
     "data": {
      "text/plain": [
       "[<matplotlib.lines.Line2D at 0x20e52a4a3a0>]"
      ]
     },
     "execution_count": 76,
     "metadata": {},
     "output_type": "execute_result"
    },
    {
     "data": {
      "image/png": "[encoded data removed]",
      "text/plain": [
       "<Figure size 432x288 with 1 Axes>"
      ]
     },
     "metadata": {
      "needs_background": "light"
     },
     "output_type": "display_data"
    }
   ],
   "source": [
    "plt.plot(x,y,'o')"
   ]
  },
  {
   "cell_type": "code",
   "execution_count": null,
   "id": "bcbda883",
   "metadata": {},
   "outputs": [],
   "source": []
  }
 ],
 "metadata": {
  "kernelspec": {
   "display_name": "Python 3",
   "language": "python",
   "name": "python3"
  },
  "language_info": {
   "codemirror_mode": {
    "name": "ipython",
    "version": 3
   },
   "file_extension": ".py",
   "mimetype": "text/x-python",
   "name": "python",
   "nbconvert_exporter": "python",
   "pygments_lexer": "ipython3",
   "version": "3.8.8"
  }
 },
 "nbformat": 4,
 "nbformat_minor": 5
}
