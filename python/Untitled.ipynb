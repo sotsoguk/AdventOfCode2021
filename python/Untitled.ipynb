{
 "cells": [
  {
   "cell_type": "code",
   "execution_count": 5,
   "id": "c2359399",
   "metadata": {},
   "outputs": [],
   "source": [
    "st = \"01,93 -> 5,9\"\n"
   ]
  },
  {
   "cell_type": "code",
   "execution_count": 6,
   "id": "29a8a412",
   "metadata": {},
   "outputs": [],
   "source": [
    "import re"
   ]
  },
  {
   "cell_type": "code",
   "execution_count": 7,
   "id": "e8e88693",
   "metadata": {},
   "outputs": [
    {
     "data": {
      "text/plain": [
       "['01', '93', '5', '9']"
      ]
     },
     "execution_count": 7,
     "metadata": {},
     "output_type": "execute_result"
    }
   ],
   "source": [
    "re.findall('\\d+',st)"
   ]
  },
  {
   "cell_type": "code",
   "execution_count": 8,
   "id": "84efe8dc",
   "metadata": {},
   "outputs": [],
   "source": [
    "inp = [\"0,9 -> 5,9\",\n",
    "\"8,0 -> 0,8\",\n",
    "\"9,4 -> 3,4\",\n",
    "\"2,2 -> 2,1\"]"
   ]
  },
  {
   "cell_type": "code",
   "execution_count": 11,
   "id": "2bad8fcc",
   "metadata": {},
   "outputs": [],
   "source": [
    "inn = [list(map(int,re.findall('\\d+',l))) for l in inp]"
   ]
  },
  {
   "cell_type": "code",
   "execution_count": 12,
   "id": "9d0f2e3c",
   "metadata": {},
   "outputs": [
    {
     "name": "stdout",
     "output_type": "stream",
     "text": [
      "[[0, 9, 5, 9], [8, 0, 0, 8], [9, 4, 3, 4], [2, 2, 2, 1]]\n"
     ]
    }
   ],
   "source": [
    "print(inn)"
   ]
  },
  {
   "cell_type": "code",
   "execution_count": 14,
   "id": "7672044f",
   "metadata": {},
   "outputs": [
    {
     "ename": "NameError",
     "evalue": "name 'sgn' is not defined",
     "output_type": "error",
     "traceback": [
      "\u001b[1;31m---------------------------------------------------------------------------\u001b[0m",
      "\u001b[1;31mNameError\u001b[0m                                 Traceback (most recent call last)",
      "\u001b[1;32m<ipython-input-14-1699cc871d56>\u001b[0m in \u001b[0;36m<module>\u001b[1;34m\u001b[0m\n\u001b[1;32m----> 1\u001b[1;33m \u001b[0msgn\u001b[0m\u001b[1;33m(\u001b[0m\u001b[1;36m4\u001b[0m\u001b[1;33m)\u001b[0m\u001b[1;33m\u001b[0m\u001b[1;33m\u001b[0m\u001b[0m\n\u001b[0m",
      "\u001b[1;31mNameError\u001b[0m: name 'sgn' is not defined"
     ]
    }
   ],
   "source": [
    "sgn(4)"
   ]
  },
  {
   "cell_type": "code",
   "execution_count": null,
   "id": "96e3e3ce",
   "metadata": {},
   "outputs": [],
   "source": []
  }
 ],
 "metadata": {
  "kernelspec": {
   "display_name": "Python 3",
   "language": "python",
   "name": "python3"
  },
  "language_info": {
   "codemirror_mode": {
    "name": "ipython",
    "version": 3
   },
   "file_extension": ".py",
   "mimetype": "text/x-python",
   "name": "python",
   "nbconvert_exporter": "python",
   "pygments_lexer": "ipython3",
   "version": "3.8.8"
  }
 },
 "nbformat": 4,
 "nbformat_minor": 5
}
