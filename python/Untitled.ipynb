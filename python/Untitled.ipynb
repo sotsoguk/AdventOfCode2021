{
 "cells": [
  {
   "cell_type": "code",
   "execution_count": 5,
   "id": "c2359399",
   "metadata": {},
   "outputs": [],
   "source": [
    "st = \"01,93 -> 5,9\"\n"
   ]
  },
  {
   "cell_type": "code",
   "execution_count": 6,
   "id": "29a8a412",
   "metadata": {},
   "outputs": [],
   "source": [
    "import re"
   ]
  },
  {
   "cell_type": "code",
   "execution_count": 7,
   "id": "e8e88693",
   "metadata": {},
   "outputs": [
    {
     "data": {
      "text/plain": [
       "['01', '93', '5', '9']"
      ]
     },
     "execution_count": 7,
     "metadata": {},
     "output_type": "execute_result"
    }
   ],
   "source": [
    "re.findall('\\d+',st)"
   ]
  },
  {
   "cell_type": "code",
   "execution_count": 8,
   "id": "84efe8dc",
   "metadata": {},
   "outputs": [],
   "source": [
    "inp = [\"0,9 -> 5,9\",\n",
    "\"8,0 -> 0,8\",\n",
    "\"9,4 -> 3,4\",\n",
    "\"2,2 -> 2,1\"]"
   ]
  },
  {
   "cell_type": "code",
   "execution_count": 11,
   "id": "2bad8fcc",
   "metadata": {},
   "outputs": [],
   "source": [
    "inn = [list(map(int,re.findall('\\d+',l))) for l in inp]"
   ]
  },
  {
   "cell_type": "code",
   "execution_count": 12,
   "id": "9d0f2e3c",
   "metadata": {},
   "outputs": [
    {
     "name": "stdout",
     "output_type": "stream",
     "text": [
      "[[0, 9, 5, 9], [8, 0, 0, 8], [9, 4, 3, 4], [2, 2, 2, 1]]\n"
     ]
    }
   ],
   "source": [
    "print(inn)"
   ]
  },
  {
   "cell_type": "code",
   "execution_count": 14,
   "id": "7672044f",
   "metadata": {},
   "outputs": [
    {
     "ename": "NameError",
     "evalue": "name 'sgn' is not defined",
     "output_type": "error",
     "traceback": [
      "\u001b[1;31m---------------------------------------------------------------------------\u001b[0m",
      "\u001b[1;31mNameError\u001b[0m                                 Traceback (most recent call last)",
      "\u001b[1;32m<ipython-input-14-1699cc871d56>\u001b[0m in \u001b[0;36m<module>\u001b[1;34m\u001b[0m\n\u001b[1;32m----> 1\u001b[1;33m \u001b[0msgn\u001b[0m\u001b[1;33m(\u001b[0m\u001b[1;36m4\u001b[0m\u001b[1;33m)\u001b[0m\u001b[1;33m\u001b[0m\u001b[1;33m\u001b[0m\u001b[0m\n\u001b[0m",
      "\u001b[1;31mNameError\u001b[0m: name 'sgn' is not defined"
     ]
    }
   ],
   "source": [
    "sgn(4)"
   ]
  },
  {
   "cell_type": "code",
   "execution_count": 1,
   "id": "96e3e3ce",
   "metadata": {},
   "outputs": [],
   "source": [
    "rows = 10"
   ]
  },
  {
   "cell_type": "code",
   "execution_count": 2,
   "id": "5635c216",
   "metadata": {},
   "outputs": [
    {
     "data": {
      "text/plain": [
       "True"
      ]
     },
     "execution_count": 2,
     "metadata": {},
     "output_type": "execute_result"
    }
   ],
   "source": [
    "4 in range(rows)"
   ]
  },
  {
   "cell_type": "code",
   "execution_count": 3,
   "id": "f6b898b6",
   "metadata": {},
   "outputs": [
    {
     "data": {
      "text/plain": [
       "False"
      ]
     },
     "execution_count": 3,
     "metadata": {},
     "output_type": "execute_result"
    }
   ],
   "source": [
    "-1 in range(rows)"
   ]
  },
  {
   "cell_type": "code",
   "execution_count": 4,
   "id": "fca754a4",
   "metadata": {},
   "outputs": [
    {
     "data": {
      "text/plain": [
       "False"
      ]
     },
     "execution_count": 4,
     "metadata": {},
     "output_type": "execute_result"
    }
   ],
   "source": [
    "10 in range(rows)"
   ]
  },
  {
   "cell_type": "code",
   "execution_count": 11,
   "id": "aa08324c",
   "metadata": {},
   "outputs": [],
   "source": [
    "t = [[0,0,0],[0,0,0],[0,0,0]]"
   ]
  },
  {
   "cell_type": "code",
   "execution_count": 12,
   "id": "ec5aad82",
   "metadata": {},
   "outputs": [
    {
     "data": {
      "text/plain": [
       "True"
      ]
     },
     "execution_count": 12,
     "metadata": {},
     "output_type": "execute_result"
    }
   ],
   "source": [
    "all(t)"
   ]
  },
  {
   "cell_type": "code",
   "execution_count": 13,
   "id": "21a28649",
   "metadata": {},
   "outputs": [
    {
     "data": {
      "text/plain": [
       "[0, 0, 0]"
      ]
     },
     "execution_count": 13,
     "metadata": {},
     "output_type": "execute_result"
    }
   ],
   "source": [
    "t[0]"
   ]
  },
  {
   "cell_type": "code",
   "execution_count": 16,
   "id": "5ba14907",
   "metadata": {},
   "outputs": [
    {
     "data": {
      "text/plain": [
       "False"
      ]
     },
     "execution_count": 16,
     "metadata": {},
     "output_type": "execute_result"
    }
   ],
   "source": [
    "all(sum(r)==1 for r in t)"
   ]
  },
  {
   "cell_type": "code",
   "execution_count": 17,
   "id": "afab1ad9",
   "metadata": {},
   "outputs": [],
   "source": [
    "a = 'xx'"
   ]
  },
  {
   "cell_type": "code",
   "execution_count": 18,
   "id": "6fcb99e5",
   "metadata": {},
   "outputs": [
    {
     "data": {
      "text/plain": [
       "True"
      ]
     },
     "execution_count": 18,
     "metadata": {},
     "output_type": "execute_result"
    }
   ],
   "source": [
    "a.islower()"
   ]
  },
  {
   "cell_type": "code",
   "execution_count": 19,
   "id": "915b9f69",
   "metadata": {},
   "outputs": [],
   "source": [
    "b = 'CC'"
   ]
  },
  {
   "cell_type": "code",
   "execution_count": 20,
   "id": "c057464a",
   "metadata": {},
   "outputs": [
    {
     "data": {
      "text/plain": [
       "False"
      ]
     },
     "execution_count": 20,
     "metadata": {},
     "output_type": "execute_result"
    }
   ],
   "source": [
    "b.islower()"
   ]
  },
  {
   "cell_type": "code",
   "execution_count": 21,
   "id": "e45f5bb5",
   "metadata": {},
   "outputs": [],
   "source": [
    "tt = \"fold along x=655\""
   ]
  },
  {
   "cell_type": "code",
   "execution_count": 22,
   "id": "25470053",
   "metadata": {},
   "outputs": [
    {
     "data": {
      "text/plain": [
       "['fold', 'along', 'x=655']"
      ]
     },
     "execution_count": 22,
     "metadata": {},
     "output_type": "execute_result"
    }
   ],
   "source": [
    "tt.split()"
   ]
  },
  {
   "cell_type": "code",
   "execution_count": 29,
   "id": "e3e3f16e",
   "metadata": {},
   "outputs": [],
   "source": [
    "a=[(1,1),(2,2)]"
   ]
  },
  {
   "cell_type": "code",
   "execution_count": 26,
   "id": "1ad0262e",
   "metadata": {},
   "outputs": [],
   "source": [
    "for i in a:\n",
    "    i[0] += 10"
   ]
  },
  {
   "cell_type": "code",
   "execution_count": 27,
   "id": "3730fd55",
   "metadata": {},
   "outputs": [
    {
     "data": {
      "text/plain": [
       "[[11, 1], [12, 2]]"
      ]
     },
     "execution_count": 27,
     "metadata": {},
     "output_type": "execute_result"
    }
   ],
   "source": [
    "a"
   ]
  },
  {
   "cell_type": "code",
   "execution_count": 30,
   "id": "a036580f",
   "metadata": {},
   "outputs": [
    {
     "data": {
      "text/plain": [
       "{(1, 1), (2, 2)}"
      ]
     },
     "execution_count": 30,
     "metadata": {},
     "output_type": "execute_result"
    }
   ],
   "source": [
    "set(a)"
   ]
  },
  {
   "cell_type": "code",
   "execution_count": 31,
   "id": "3db93e12",
   "metadata": {},
   "outputs": [],
   "source": [
    "ab = [1,2]"
   ]
  },
  {
   "cell_type": "code",
   "execution_count": 32,
   "id": "5beefe52",
   "metadata": {},
   "outputs": [
    {
     "name": "stdout",
     "output_type": "stream",
     "text": [
      "None\n"
     ]
    }
   ],
   "source": [
    "print(ab.append(3))"
   ]
  },
  {
   "cell_type": "code",
   "execution_count": 35,
   "id": "c69674bd",
   "metadata": {},
   "outputs": [],
   "source": [
    "ab = [1,2]"
   ]
  },
  {
   "cell_type": "code",
   "execution_count": 36,
   "id": "f16cad59",
   "metadata": {},
   "outputs": [
    {
     "ename": "TypeError",
     "evalue": "can only concatenate list (not \"int\") to list",
     "output_type": "error",
     "traceback": [
      "\u001b[1;31m---------------------------------------------------------------------------\u001b[0m",
      "\u001b[1;31mTypeError\u001b[0m                                 Traceback (most recent call last)",
      "\u001b[1;32m<ipython-input-36-76579f070cdc>\u001b[0m in \u001b[0;36m<module>\u001b[1;34m\u001b[0m\n\u001b[1;32m----> 1\u001b[1;33m \u001b[0mab\u001b[0m \u001b[1;33m+\u001b[0m \u001b[1;36m3\u001b[0m\u001b[1;33m\u001b[0m\u001b[1;33m\u001b[0m\u001b[0m\n\u001b[0m",
      "\u001b[1;31mTypeError\u001b[0m: can only concatenate list (not \"int\") to list"
     ]
    }
   ],
   "source": [
    "ab + 3"
   ]
  },
  {
   "cell_type": "code",
   "execution_count": 37,
   "id": "77084cc5",
   "metadata": {},
   "outputs": [
    {
     "name": "stdout",
     "output_type": "stream",
     "text": [
      "[1, 2]\n"
     ]
    }
   ],
   "source": [
    "print(ab)"
   ]
  },
  {
   "cell_type": "code",
   "execution_count": 38,
   "id": "8039101b",
   "metadata": {},
   "outputs": [
    {
     "data": {
      "text/plain": [
       "[1, 2, 3]"
      ]
     },
     "execution_count": 38,
     "metadata": {},
     "output_type": "execute_result"
    }
   ],
   "source": [
    "ab + [3]\n"
   ]
  },
  {
   "cell_type": "code",
   "execution_count": 40,
   "id": "a58a52a2",
   "metadata": {},
   "outputs": [],
   "source": [
    "ts = set({'a','b'})"
   ]
  },
  {
   "cell_type": "code",
   "execution_count": 42,
   "id": "61a7bb6f",
   "metadata": {},
   "outputs": [
    {
     "name": "stdout",
     "output_type": "stream",
     "text": [
      "{'b', 'c', 'a'}\n"
     ]
    }
   ],
   "source": [
    "print(ts | {'c'})"
   ]
  },
  {
   "cell_type": "code",
   "execution_count": 47,
   "id": "80608ae6",
   "metadata": {},
   "outputs": [],
   "source": [
    "al = ['a','b','c','a']\n",
    "aset = set({'a','b'})"
   ]
  },
  {
   "cell_type": "code",
   "execution_count": 45,
   "id": "5b0f27a7",
   "metadata": {},
   "outputs": [],
   "source": [
    "abb = [1 if se in al else 0 for se in aset ]"
   ]
  },
  {
   "cell_type": "code",
   "execution_count": 46,
   "id": "cc80a40e",
   "metadata": {},
   "outputs": [
    {
     "data": {
      "text/plain": [
       "[1, 1]"
      ]
     },
     "execution_count": 46,
     "metadata": {},
     "output_type": "execute_result"
    }
   ],
   "source": [
    "abb"
   ]
  },
  {
   "cell_type": "code",
   "execution_count": 51,
   "id": "73bf5632",
   "metadata": {},
   "outputs": [
    {
     "data": {
      "text/plain": [
       "2"
      ]
     },
     "execution_count": 51,
     "metadata": {},
     "output_type": "execute_result"
    }
   ],
   "source": [
    "sum(1 if i == 'a' else 0 for i in al)"
   ]
  },
  {
   "cell_type": "code",
   "execution_count": null,
   "id": "5d65f2ca",
   "metadata": {},
   "outputs": [],
   "source": []
  }
 ],
 "metadata": {
  "kernelspec": {
   "display_name": "Python 3",
   "language": "python",
   "name": "python3"
  },
  "language_info": {
   "codemirror_mode": {
    "name": "ipython",
    "version": 3
   },
   "file_extension": ".py",
   "mimetype": "text/x-python",
   "name": "python",
   "nbconvert_exporter": "python",
   "pygments_lexer": "ipython3",
   "version": "3.8.8"
  }
 },
 "nbformat": 4,
 "nbformat_minor": 5
}
