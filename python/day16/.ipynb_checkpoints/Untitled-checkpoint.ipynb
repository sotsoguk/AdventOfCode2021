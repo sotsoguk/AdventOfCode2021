{
 "cells": [
  {
   "cell_type": "code",
   "execution_count": 11,
   "id": "8e56d03e",
   "metadata": {},
   "outputs": [],
   "source": [
    "def readHeader(pos,msg):\n",
    "  print(\"H Enter@\",pos)\n",
    "  version = int(msg[pos:pos+3],base=2)\n",
    "  typeId = int(msg[pos+3:pos+6],base = 2)\n",
    "  print(\"H Leave@p\",pos,\"V:\",version,\"typeId:\",typeId)\n",
    "  return (pos+6,version,typeId)\n",
    "\n",
    "def readLiteral(pos,msg):\n",
    "  print(\"L@\",pos)\n",
    "  resstring =\"\"\n",
    "  finished =False\n",
    "  while not finished:\n",
    "    tmp = msg[pos:pos+5]\n",
    "    resstring += tmp[1:]\n",
    "    if tmp[0] == '0':\n",
    "      finished = True\n",
    "    pos += 5\n",
    "  print(\"L Leave:\",pos,\" => \",int(resstring,base=2))\n",
    "  return pos,int(resstring,base=2)\n",
    "\n",
    "def readOperator(pos,msg):\n",
    "  print(\"O@\",pos)\n",
    "  if msg[pos] == 0:\n",
    "        sizebits = 15:\n",
    "  else:\n",
    "    sizebits = 11\n",
    "\n",
    "  sizesubpackets = int(msg[pos+1:pos+1+sizebits],base=2)\n",
    "  pos = pos +1+sizebits\n",
    "  print(\"O:\",pos,\"size:\",sizebits,\"packlen:\",sizesubpackets)\n",
    "  endOfPacket = pos + sizesubpackets\n",
    "  arr = []\n",
    "  while pos < endOfPacket:\n",
    "    pos,arr = readPackage(pos,msg,arr)\n",
    "  return arr\n",
    "\n",
    "def readPackage(pos,msg,arr):\n",
    "  # read header\n",
    "  print(\"P@\",pos)\n",
    "  pos,version, typeID = readHeader(pos,msg)\n",
    "  print(\"P@ after header:\",pos)\n",
    "  if (typeID == 4):\n",
    "    pos, literal = readLiteral(pos,msg)\n",
    "    arr.append((version,typeID,literal))\n",
    "  else:\n",
    "    pos, oplist = readOperator(pos,msg)\n",
    "    arr.extend(oplist)\n",
    "  return pos, arr\n",
    "  #TODO \n",
    "  #END of reading"
   ]
  },
  {
   "cell_type": "code",
   "execution_count": 2,
   "id": "59993304",
   "metadata": {},
   "outputs": [],
   "source": [
    "lit1 = \"38006F45291200\""
   ]
  },
  {
   "cell_type": "code",
   "execution_count": 5,
   "id": "2f489b11",
   "metadata": {},
   "outputs": [],
   "source": [
    "litmsg = \"00\"+format(int(lit1,16),'b')"
   ]
  },
  {
   "cell_type": "code",
   "execution_count": 12,
   "id": "9a610349",
   "metadata": {},
   "outputs": [
    {
     "name": "stdout",
     "output_type": "stream",
     "text": [
      "P@ 0\n",
      "H Enter@ 0\n",
      "H Leave@p 0 V: 1 typeId: 6\n",
      "P@ after header: 6\n",
      "O@ 6\n",
      "O: 18 size: 11 packlen: 1\n",
      "P@ 18\n",
      "H Enter@ 18\n",
      "H Leave@p 18 V: 5 typeId: 7\n",
      "P@ after header: 24\n",
      "O@ 24\n",
      "O: 36 size: 11 packlen: 1106\n",
      "P@ 36\n",
      "H Enter@ 36\n",
      "H Leave@p 36 V: 4 typeId: 4\n",
      "P@ after header: 42\n",
      "L@ 42\n",
      "L Leave: 47  =>  9\n",
      "P@ 47\n",
      "H Enter@ 47\n",
      "H Leave@p 47 V: 0 typeId: 0\n",
      "P@ after header: 53\n",
      "O@ 53\n",
      "O: 65 size: 11 packlen: 0\n"
     ]
    },
    {
     "ename": "ValueError",
     "evalue": "not enough values to unpack (expected 2, got 0)",
     "output_type": "error",
     "traceback": [
      "\u001b[1;31m---------------------------------------------------------------------------\u001b[0m",
      "\u001b[1;31mValueError\u001b[0m                                Traceback (most recent call last)",
      "\u001b[1;32m<ipython-input-12-3c4cdc03fe00>\u001b[0m in \u001b[0;36m<module>\u001b[1;34m\u001b[0m\n\u001b[1;32m----> 1\u001b[1;33m \u001b[0mreadPackage\u001b[0m\u001b[1;33m(\u001b[0m\u001b[1;36m0\u001b[0m\u001b[1;33m,\u001b[0m\u001b[0mlitmsg\u001b[0m\u001b[1;33m,\u001b[0m\u001b[1;33m[\u001b[0m\u001b[1;33m]\u001b[0m\u001b[1;33m)\u001b[0m\u001b[1;33m\u001b[0m\u001b[1;33m\u001b[0m\u001b[0m\n\u001b[0m",
      "\u001b[1;32m<ipython-input-11-a51e0a21655c>\u001b[0m in \u001b[0;36mreadPackage\u001b[1;34m(pos, msg, arr)\u001b[0m\n\u001b[0;32m     40\u001b[0m     \u001b[0marr\u001b[0m\u001b[1;33m.\u001b[0m\u001b[0mappend\u001b[0m\u001b[1;33m(\u001b[0m\u001b[1;33m(\u001b[0m\u001b[0mversion\u001b[0m\u001b[1;33m,\u001b[0m\u001b[0mtypeID\u001b[0m\u001b[1;33m,\u001b[0m\u001b[0mliteral\u001b[0m\u001b[1;33m)\u001b[0m\u001b[1;33m)\u001b[0m\u001b[1;33m\u001b[0m\u001b[1;33m\u001b[0m\u001b[0m\n\u001b[0;32m     41\u001b[0m   \u001b[1;32melse\u001b[0m\u001b[1;33m:\u001b[0m\u001b[1;33m\u001b[0m\u001b[1;33m\u001b[0m\u001b[0m\n\u001b[1;32m---> 42\u001b[1;33m     \u001b[0mpos\u001b[0m\u001b[1;33m,\u001b[0m \u001b[0moplist\u001b[0m \u001b[1;33m=\u001b[0m \u001b[0mreadOperator\u001b[0m\u001b[1;33m(\u001b[0m\u001b[0mpos\u001b[0m\u001b[1;33m,\u001b[0m\u001b[0mmsg\u001b[0m\u001b[1;33m)\u001b[0m\u001b[1;33m\u001b[0m\u001b[1;33m\u001b[0m\u001b[0m\n\u001b[0m\u001b[0;32m     43\u001b[0m     \u001b[0marr\u001b[0m\u001b[1;33m.\u001b[0m\u001b[0mextend\u001b[0m\u001b[1;33m(\u001b[0m\u001b[0moplist\u001b[0m\u001b[1;33m)\u001b[0m\u001b[1;33m\u001b[0m\u001b[1;33m\u001b[0m\u001b[0m\n\u001b[0;32m     44\u001b[0m   \u001b[1;32mreturn\u001b[0m \u001b[0mpos\u001b[0m\u001b[1;33m,\u001b[0m \u001b[0marr\u001b[0m\u001b[1;33m\u001b[0m\u001b[1;33m\u001b[0m\u001b[0m\n",
      "\u001b[1;32m<ipython-input-11-a51e0a21655c>\u001b[0m in \u001b[0;36mreadOperator\u001b[1;34m(pos, msg)\u001b[0m\n\u001b[0;32m     28\u001b[0m   \u001b[0marr\u001b[0m \u001b[1;33m=\u001b[0m \u001b[1;33m[\u001b[0m\u001b[1;33m]\u001b[0m\u001b[1;33m\u001b[0m\u001b[1;33m\u001b[0m\u001b[0m\n\u001b[0;32m     29\u001b[0m   \u001b[1;32mwhile\u001b[0m \u001b[0mpos\u001b[0m \u001b[1;33m<\u001b[0m \u001b[0mendOfPacket\u001b[0m\u001b[1;33m:\u001b[0m\u001b[1;33m\u001b[0m\u001b[1;33m\u001b[0m\u001b[0m\n\u001b[1;32m---> 30\u001b[1;33m     \u001b[0mpos\u001b[0m\u001b[1;33m,\u001b[0m\u001b[0marr\u001b[0m \u001b[1;33m=\u001b[0m \u001b[0mreadPackage\u001b[0m\u001b[1;33m(\u001b[0m\u001b[0mpos\u001b[0m\u001b[1;33m,\u001b[0m\u001b[0mmsg\u001b[0m\u001b[1;33m,\u001b[0m\u001b[0marr\u001b[0m\u001b[1;33m)\u001b[0m\u001b[1;33m\u001b[0m\u001b[1;33m\u001b[0m\u001b[0m\n\u001b[0m\u001b[0;32m     31\u001b[0m   \u001b[1;32mreturn\u001b[0m \u001b[0marr\u001b[0m\u001b[1;33m\u001b[0m\u001b[1;33m\u001b[0m\u001b[0m\n\u001b[0;32m     32\u001b[0m \u001b[1;33m\u001b[0m\u001b[0m\n",
      "\u001b[1;32m<ipython-input-11-a51e0a21655c>\u001b[0m in \u001b[0;36mreadPackage\u001b[1;34m(pos, msg, arr)\u001b[0m\n\u001b[0;32m     40\u001b[0m     \u001b[0marr\u001b[0m\u001b[1;33m.\u001b[0m\u001b[0mappend\u001b[0m\u001b[1;33m(\u001b[0m\u001b[1;33m(\u001b[0m\u001b[0mversion\u001b[0m\u001b[1;33m,\u001b[0m\u001b[0mtypeID\u001b[0m\u001b[1;33m,\u001b[0m\u001b[0mliteral\u001b[0m\u001b[1;33m)\u001b[0m\u001b[1;33m)\u001b[0m\u001b[1;33m\u001b[0m\u001b[1;33m\u001b[0m\u001b[0m\n\u001b[0;32m     41\u001b[0m   \u001b[1;32melse\u001b[0m\u001b[1;33m:\u001b[0m\u001b[1;33m\u001b[0m\u001b[1;33m\u001b[0m\u001b[0m\n\u001b[1;32m---> 42\u001b[1;33m     \u001b[0mpos\u001b[0m\u001b[1;33m,\u001b[0m \u001b[0moplist\u001b[0m \u001b[1;33m=\u001b[0m \u001b[0mreadOperator\u001b[0m\u001b[1;33m(\u001b[0m\u001b[0mpos\u001b[0m\u001b[1;33m,\u001b[0m\u001b[0mmsg\u001b[0m\u001b[1;33m)\u001b[0m\u001b[1;33m\u001b[0m\u001b[1;33m\u001b[0m\u001b[0m\n\u001b[0m\u001b[0;32m     43\u001b[0m     \u001b[0marr\u001b[0m\u001b[1;33m.\u001b[0m\u001b[0mextend\u001b[0m\u001b[1;33m(\u001b[0m\u001b[0moplist\u001b[0m\u001b[1;33m)\u001b[0m\u001b[1;33m\u001b[0m\u001b[1;33m\u001b[0m\u001b[0m\n\u001b[0;32m     44\u001b[0m   \u001b[1;32mreturn\u001b[0m \u001b[0mpos\u001b[0m\u001b[1;33m,\u001b[0m \u001b[0marr\u001b[0m\u001b[1;33m\u001b[0m\u001b[1;33m\u001b[0m\u001b[0m\n",
      "\u001b[1;32m<ipython-input-11-a51e0a21655c>\u001b[0m in \u001b[0;36mreadOperator\u001b[1;34m(pos, msg)\u001b[0m\n\u001b[0;32m     28\u001b[0m   \u001b[0marr\u001b[0m \u001b[1;33m=\u001b[0m \u001b[1;33m[\u001b[0m\u001b[1;33m]\u001b[0m\u001b[1;33m\u001b[0m\u001b[1;33m\u001b[0m\u001b[0m\n\u001b[0;32m     29\u001b[0m   \u001b[1;32mwhile\u001b[0m \u001b[0mpos\u001b[0m \u001b[1;33m<\u001b[0m \u001b[0mendOfPacket\u001b[0m\u001b[1;33m:\u001b[0m\u001b[1;33m\u001b[0m\u001b[1;33m\u001b[0m\u001b[0m\n\u001b[1;32m---> 30\u001b[1;33m     \u001b[0mpos\u001b[0m\u001b[1;33m,\u001b[0m\u001b[0marr\u001b[0m \u001b[1;33m=\u001b[0m \u001b[0mreadPackage\u001b[0m\u001b[1;33m(\u001b[0m\u001b[0mpos\u001b[0m\u001b[1;33m,\u001b[0m\u001b[0mmsg\u001b[0m\u001b[1;33m,\u001b[0m\u001b[0marr\u001b[0m\u001b[1;33m)\u001b[0m\u001b[1;33m\u001b[0m\u001b[1;33m\u001b[0m\u001b[0m\n\u001b[0m\u001b[0;32m     31\u001b[0m   \u001b[1;32mreturn\u001b[0m \u001b[0marr\u001b[0m\u001b[1;33m\u001b[0m\u001b[1;33m\u001b[0m\u001b[0m\n\u001b[0;32m     32\u001b[0m \u001b[1;33m\u001b[0m\u001b[0m\n",
      "\u001b[1;32m<ipython-input-11-a51e0a21655c>\u001b[0m in \u001b[0;36mreadPackage\u001b[1;34m(pos, msg, arr)\u001b[0m\n\u001b[0;32m     40\u001b[0m     \u001b[0marr\u001b[0m\u001b[1;33m.\u001b[0m\u001b[0mappend\u001b[0m\u001b[1;33m(\u001b[0m\u001b[1;33m(\u001b[0m\u001b[0mversion\u001b[0m\u001b[1;33m,\u001b[0m\u001b[0mtypeID\u001b[0m\u001b[1;33m,\u001b[0m\u001b[0mliteral\u001b[0m\u001b[1;33m)\u001b[0m\u001b[1;33m)\u001b[0m\u001b[1;33m\u001b[0m\u001b[1;33m\u001b[0m\u001b[0m\n\u001b[0;32m     41\u001b[0m   \u001b[1;32melse\u001b[0m\u001b[1;33m:\u001b[0m\u001b[1;33m\u001b[0m\u001b[1;33m\u001b[0m\u001b[0m\n\u001b[1;32m---> 42\u001b[1;33m     \u001b[0mpos\u001b[0m\u001b[1;33m,\u001b[0m \u001b[0moplist\u001b[0m \u001b[1;33m=\u001b[0m \u001b[0mreadOperator\u001b[0m\u001b[1;33m(\u001b[0m\u001b[0mpos\u001b[0m\u001b[1;33m,\u001b[0m\u001b[0mmsg\u001b[0m\u001b[1;33m)\u001b[0m\u001b[1;33m\u001b[0m\u001b[1;33m\u001b[0m\u001b[0m\n\u001b[0m\u001b[0;32m     43\u001b[0m     \u001b[0marr\u001b[0m\u001b[1;33m.\u001b[0m\u001b[0mextend\u001b[0m\u001b[1;33m(\u001b[0m\u001b[0moplist\u001b[0m\u001b[1;33m)\u001b[0m\u001b[1;33m\u001b[0m\u001b[1;33m\u001b[0m\u001b[0m\n\u001b[0;32m     44\u001b[0m   \u001b[1;32mreturn\u001b[0m \u001b[0mpos\u001b[0m\u001b[1;33m,\u001b[0m \u001b[0marr\u001b[0m\u001b[1;33m\u001b[0m\u001b[1;33m\u001b[0m\u001b[0m\n",
      "\u001b[1;31mValueError\u001b[0m: not enough values to unpack (expected 2, got 0)"
     ]
    }
   ],
   "source": [
    "readPackage(0,litmsg,[])"
   ]
  },
  {
   "cell_type": "code",
   "execution_count": null,
   "id": "3d0c5c86",
   "metadata": {},
   "outputs": [],
   "source": []
  }
 ],
 "metadata": {
  "kernelspec": {
   "display_name": "Python 3",
   "language": "python",
   "name": "python3"
  },
  "language_info": {
   "codemirror_mode": {
    "name": "ipython",
    "version": 3
   },
   "file_extension": ".py",
   "mimetype": "text/x-python",
   "name": "python",
   "nbconvert_exporter": "python",
   "pygments_lexer": "ipython3",
   "version": "3.8.8"
  }
 },
 "nbformat": 4,
 "nbformat_minor": 5
}
