{
 "cells": [
  {
   "cell_type": "code",
   "execution_count": 119,
   "id": "6cb8ecba",
   "metadata": {},
   "outputs": [],
   "source": [
    "def readHeader(pos,msg):\n",
    "  print(\"H Enter@\",pos)\n",
    "  version = int(msg[pos:pos+3],base=2)\n",
    "  typeId = int(msg[pos+3:pos+6],base = 2)\n",
    "  print(\"H Leave@p\",pos,\"V:\",version,\"typeId:\",typeId)\n",
    "  return (pos+6,version,typeId)\n",
    "\n",
    "def readLiteral(pos,msg):\n",
    "  print(\"L@\",pos)\n",
    "  resstring =\"\"\n",
    "  finished =False\n",
    "  while not finished:\n",
    "    tmp = msg[pos:pos+5]\n",
    "    resstring += tmp[1:]\n",
    "    if tmp[0] == '0':\n",
    "      finished = True\n",
    "    pos += 5\n",
    "  print(\"L Leave:\",pos,\" => \",int(resstring,base=2))\n",
    "  return pos,int(resstring,base=2)\n",
    "\n",
    "def readOperator(pos,msg):\n",
    "  print(\"O@\",pos,msg[pos])\n",
    "  arr = []\n",
    "  if msg[pos] == '0':\n",
    "    sizebits = 15\n",
    "    sizesubpackets = int(msg[pos+1:pos+1+sizebits],base=2)\n",
    "    pos = pos +1+sizebits\n",
    "    print(\"O:\",pos,\"size:\",sizebits,\"packlen:\",sizesubpackets)\n",
    "    endOfPacket = pos + sizesubpackets\n",
    "    \n",
    "    while pos < endOfPacket:\n",
    "      print(\"O!@\",pos,arr)\n",
    "      pos,arr,_ = readPackage(pos,msg,arr)\n",
    "      print(\"O!!@\",pos,arr)\n",
    "  else:\n",
    "    numPacket = int(msg[pos+1:pos+1+11],base=2)\n",
    "    print(\"O: numPackets\",numPacket)\n",
    "    pos = pos + 12\n",
    "    subpackread = 0\n",
    "    while subpackread < numPacket:\n",
    "      pos,arr, numread = readPackage(pos,msg,arr)\n",
    "      subpackread += numread\n",
    "      print(\"O@\",pos,\" \",subpackread,\" of \",numPacket)\n",
    "    \n",
    "\n",
    "  \n",
    "  return pos,arr\n",
    "\n",
    "def readPackage(pos,msg,arr):\n",
    "  # read header\n",
    "  print(\"P@\",pos)\n",
    "  numread = 0\n",
    "  pos,version, typeID = readHeader(pos,msg)\n",
    "  print(\"P@ after header:\",pos)\n",
    "  if (typeID == 4):\n",
    "    pos, literal = readLiteral(pos,msg)\n",
    "    arr.append([version,typeID,literal])\n",
    "    numread = 1\n",
    "  else:\n",
    "    pos, oplist = readOperator(pos,msg)\n",
    "    print(\"P!!@\",pos,oplist,len(oplist))\n",
    "    tmp = [[version,typeID]]\n",
    "    tmp.extend(oplist)\n",
    "    print(\"TMP\",tmp)\n",
    "    arr.append(tmp)\n",
    "    numread = len(oplist) +1\n",
    "  return pos, arr, numread\n",
    "  #TODO \n",
    "  #END of reading"
   ]
  },
  {
   "cell_type": "code",
   "execution_count": 183,
   "id": "9e45d213",
   "metadata": {},
   "outputs": [],
   "source": [
    "# lit1 = \"38006F45291200\"\n",
    "# lit1 = \"D2FE28\"\n",
    "#lit1 = \"EE00D40C823060\"\n",
    "# lit1 = \"8A004A801A8002F478\"\n",
    "lit1=\"620080001611562C8802118E34\"\n",
    "# lit1 = \"C0015000016115A2E0802F182340\"\n",
    "# lit1 = \"A0016C880162017C3686B18A3D4780\"\n",
    "# lit1 = \"E20D41802B2984BD00540010F82D09E35880350D61A41D3004E5611E585F40159ED7AD7C90CF6BD6BE49C802DEB00525272CC1927752698693DA7C70029C0081002140096028C5400F6023C9C00D601ED88070070030005C2201448400E400F40400C400A50801E20004C1000809D14700B67676EE661137ADC64FF2BBAD745B3F2D69026335E92A0053533D78932A9DFE23AC7858C028920A973785338832CFA200F47C81D2BBBC7F9A9E1802FE00ACBA44F4D1E775DDC19C8054D93B7E72DBE7006AA200C41A8510980010D8731720CB80132918319804738AB3A8D3E773C4A4015A498E680292B1852E753E2B29D97F0DE6008CB3D4D031802D2853400D24DEAE0137AB8210051D24EB600844B95C56781B3004F002B99D8F635379EDE273AF26972D4A5610BA51004C12D1E25D802F32313239377B37100105343327E8031802B801AA00021D07231C2F10076184668693AC6600BCD83E8025231D752E5ADE311008A4EA092754596C6789727F069F99A4645008247D2579388DCF53558AE4B76B257200AAB80107947E94789FE76E36402868803F0D62743F00043A1646288800084C3F8971308032996A2BD8023292DF8BE467BB3790047F2572EF004A699E6164C013A007C62848DE91CC6DB459B6B40087E530AB31EE633BD23180393CBF36333038E011CBCE73C6FB098F4956112C98864EA1C2801D2D0F319802D60088002190620E479100622E4358952D84510074C0188CF0923410021F1CE1146E3006E3FC578EE600A4B6C4B002449C97E92449C97E92459796EB4FF874400A9A16100A26CEA6D0E5E5EC8841C9B8FE37109C99818023A00A4FD8BA531586BB8B1DC9AE080293B6972B7FA444285CC00AE492BC910C1697B5BDD8425409700562F471201186C0120004322B42489A200D4138A71AA796D00374978FE07B2314E99BFB6E909678A0\""
   ]
  },
  {
   "cell_type": "code",
   "execution_count": 184,
   "id": "55e764f8",
   "metadata": {},
   "outputs": [],
   "source": [
    "litmsg = \"0\"+format(int(lit1,16),'b')"
   ]
  },
  {
   "cell_type": "code",
   "execution_count": 186,
   "id": "8af00402",
   "metadata": {},
   "outputs": [
    {
     "name": "stdout",
     "output_type": "stream",
     "text": [
      "01100010000000001000000000000000000101100001000101010110001011001000100000000010000100011000111000110100\n"
     ]
    }
   ],
   "source": [
    "print(litmsg)"
   ]
  },
  {
   "cell_type": "code",
   "execution_count": 185,
   "id": "4e97b2eb",
   "metadata": {},
   "outputs": [
    {
     "name": "stdout",
     "output_type": "stream",
     "text": [
      "P@ 0\n",
      "H Enter@ 0\n",
      "H Leave@p 0 V: 3 typeId: 0\n",
      "P@ after header: 6\n",
      "O@ 6 1\n",
      "O: numPackets 2\n",
      "P@ 18\n",
      "H Enter@ 18\n",
      "H Leave@p 18 V: 0 typeId: 0\n",
      "P@ after header: 24\n",
      "O@ 24 0\n",
      "O: 40 size: 15 packlen: 22\n",
      "O!@ 40 []\n",
      "P@ 40\n",
      "H Enter@ 40\n",
      "H Leave@p 40 V: 0 typeId: 4\n",
      "P@ after header: 46\n",
      "L@ 46\n",
      "L Leave: 51  =>  10\n",
      "O!!@ 51 [[0, 4, 10]]\n",
      "O!@ 51 [[0, 4, 10]]\n",
      "P@ 51\n",
      "H Enter@ 51\n",
      "H Leave@p 51 V: 5 typeId: 4\n",
      "P@ after header: 57\n",
      "L@ 57\n",
      "L Leave: 62  =>  11\n",
      "O!!@ 62 [[0, 4, 10], [5, 4, 11]]\n",
      "P!!@ 62 [[0, 4, 10], [5, 4, 11]] 2\n",
      "TMP [[0, 0], [0, 4, 10], [5, 4, 11]]\n",
      "O@ 62   3  of  2\n",
      "P!!@ 62 [[[0, 0], [0, 4, 10], [5, 4, 11]]] 1\n",
      "TMP [[3, 0], [[0, 0], [0, 4, 10], [5, 4, 11]]]\n"
     ]
    }
   ],
   "source": [
    "_, out,_ = readPackage(0,litmsg,[])"
   ]
  },
  {
   "cell_type": "code",
   "execution_count": 181,
   "id": "0542710b",
   "metadata": {},
   "outputs": [
    {
     "name": "stdout",
     "output_type": "stream",
     "text": [
      "[[[7, 0], [[0, 1], [5, 4, 1161], [[3, 6], [[5, 0], [7, 4, 2], [6, 4, 4], [7, 4, 13]]]], [[3, 0], [2, 4, 6], [5, 4, 6], [4, 4, 3]], [[5, 1], [3, 4, 5250146], [[7, 6], [5, 4, 246310804], [1, 4, 246310804]]], [[7, 1], [[6, 5], [4, 4, 4401420], [4, 4, 55853]], [1, 4, 6]], [4, 4, 3759], [[4, 3], [[2, 3], [[0, 0], [[0, 2], [[1, 3], [[1, 2], [[7, 3], [[2, 3], [[5, 3], [[6, 1], [[0, 3], [[4, 0], [[2, 1], [[2, 0], [[6, 2], [[0, 0], [[4, 2], [[4, 1], [[2, 0], [[0, 2], [0, 4, 210]]]]]]]]]]]]]]]]]]]]], [[4, 3], [5, 4, 221698353], [0, 4, 12235055], [7, 4, 5985701], [5, 4, 993960], [0, 4, 562644]], [[5, 2], [2, 4, 2527], [0, 4, 53], [2, 4, 3749816546]], [[6, 1], [0, 4, 33], [2, 4, 118], [7, 4, 5], [1, 4, 200], [1, 4, 111]], [[5, 0], [6, 4, 15], [4, 4, 1], [6, 4, 1534196055]], [[4, 1], [[7, 7], [5, 4, 121], [0, 4, 3640]]], [7, 4, 14342924], [[7, 1], [5, 4, 57619135], [[4, 7], [[5, 0], [0, 4, 3], [2, 4, 5], [0, 4, 4]], [[6, 0], [5, 4, 7], [1, 4, 11], [4, 4, 3]]]], [[1, 3], [1, 4, 16652]], [[3, 1], [3, 4, 202], [5, 4, 216], [6, 4, 247], [3, 4, 228]], [[5, 1], [4, 4, 51], [[4, 6], [4, 4, 5309559], [2, 4, 242]]], [5, 4, 5058445]]]\n"
     ]
    }
   ],
   "source": [
    "print(out)"
   ]
  },
  {
   "cell_type": "code",
   "execution_count": 76,
   "id": "0f5a48ba",
   "metadata": {},
   "outputs": [],
   "source": [
    "a = [2,3]"
   ]
  },
  {
   "cell_type": "code",
   "execution_count": 77,
   "id": "d6086e10",
   "metadata": {},
   "outputs": [
    {
     "name": "stdout",
     "output_type": "stream",
     "text": [
      "[2, 3]\n"
     ]
    }
   ],
   "source": [
    "print(a)"
   ]
  },
  {
   "cell_type": "code",
   "execution_count": 142,
   "id": "194a778d",
   "metadata": {},
   "outputs": [],
   "source": [
    "def sumVersion(inp):\n",
    "    result = 0\n",
    "    if isinstance(inp[0],list):\n",
    "        for i in inp:\n",
    "            result += sumVersion(i)\n",
    "    else:\n",
    "        result = inp[0]\n",
    "    return result"
   ]
  },
  {
   "cell_type": "code",
   "execution_count": 182,
   "id": "f4736770",
   "metadata": {},
   "outputs": [
    {
     "name": "stdout",
     "output_type": "stream",
     "text": [
      "329\n"
     ]
    }
   ],
   "source": [
    "print(sumVersion(out))"
   ]
  },
  {
   "cell_type": "code",
   "execution_count": 187,
   "id": "aef23bc8",
   "metadata": {},
   "outputs": [
    {
     "name": "stdout",
     "output_type": "stream",
     "text": [
      "operator packet, length type 1\n",
      "operator packet, length type 1\n",
      "literal value is: 1161\n",
      "operator packet, length type 1\n",
      "operator packet, length type 0\n",
      "literal value is: 2\n",
      "literal value is: 4\n",
      "literal value is: 13\n",
      "operator packet, length type 1\n",
      "literal value is: 6\n",
      "literal value is: 6\n",
      "literal value is: 3\n",
      "operator packet, length type 1\n",
      "literal value is: 5250146\n",
      "operator packet, length type 1\n",
      "literal value is: 246310804\n",
      "literal value is: 246310804\n",
      "operator packet, length type 0\n",
      "operator packet, length type 1\n",
      "literal value is: 4401420\n",
      "literal value is: 55853\n",
      "literal value is: 6\n",
      "literal value is: 3759\n",
      "operator packet, length type 1\n",
      "operator packet, length type 1\n",
      "operator packet, length type 1\n",
      "operator packet, length type 1\n",
      "operator packet, length type 0\n",
      "operator packet, length type 1\n",
      "operator packet, length type 0\n",
      "operator packet, length type 1\n",
      "operator packet, length type 0\n",
      "operator packet, length type 0\n",
      "operator packet, length type 1\n",
      "operator packet, length type 0\n",
      "operator packet, length type 0\n",
      "operator packet, length type 1\n",
      "operator packet, length type 0\n",
      "operator packet, length type 1\n",
      "operator packet, length type 0\n",
      "operator packet, length type 0\n",
      "operator packet, length type 0\n",
      "operator packet, length type 0\n",
      "literal value is: 210\n",
      "operator packet, length type 1\n",
      "literal value is: 221698353\n",
      "literal value is: 12235055\n",
      "literal value is: 5985701\n",
      "literal value is: 993960\n",
      "literal value is: 562644\n",
      "operator packet, length type 0\n",
      "literal value is: 2527\n",
      "literal value is: 53\n",
      "literal value is: 3749816546\n",
      "operator packet, length type 1\n",
      "literal value is: 33\n",
      "literal value is: 118\n",
      "literal value is: 5\n",
      "literal value is: 200\n",
      "literal value is: 111\n",
      "operator packet, length type 1\n",
      "literal value is: 15\n",
      "literal value is: 1\n",
      "literal value is: 1534196055\n",
      "operator packet, length type 1\n",
      "operator packet, length type 1\n",
      "literal value is: 121\n",
      "literal value is: 3640\n",
      "literal value is: 14342924\n",
      "operator packet, length type 0\n",
      "literal value is: 57619135\n",
      "operator packet, length type 0\n",
      "operator packet, length type 1\n",
      "literal value is: 3\n",
      "literal value is: 5\n",
      "literal value is: 4\n",
      "operator packet, length type 0\n",
      "literal value is: 7\n",
      "literal value is: 11\n",
      "literal value is: 3\n",
      "operator packet, length type 1\n",
      "literal value is: 16652\n",
      "operator packet, length type 1\n",
      "literal value is: 202\n",
      "literal value is: 216\n",
      "literal value is: 247\n",
      "literal value is: 228\n",
      "operator packet, length type 0\n",
      "literal value is: 51\n",
      "operator packet, length type 1\n",
      "literal value is: 5309559\n",
      "literal value is: 242\n",
      "literal value is: 5058445\n",
      "operator packet, length type 1\n",
      "literal value is: 111\n",
      "literal value is: 160\n",
      "operator packet, length type 1\n",
      "literal value is: 69\n",
      "operator packet, length type 0\n",
      "literal value is: 47728\n",
      "literal value is: 47728\n",
      "operator packet, length type 0\n",
      "literal value is: 46\n",
      "operator packet, length type 1\n",
      "literal value is: 9\n",
      "literal value is: 5788547\n",
      "operator packet, length type 1\n",
      "operator packet, length type 0\n",
      "literal value is: 13750614\n",
      "literal value is: 63219915833\n",
      "literal value is: 1682243705\n",
      "operator packet, length type 0\n",
      "literal value is: 25033\n",
      "operator packet, length type 1\n",
      "literal value is: 147\n",
      "literal value is: 147\n",
      "literal value is: 46957\n",
      "operator packet, length type 0\n",
      "literal value is: 163\n",
      "literal value is: 15872\n",
      "operator packet, length type 1\n",
      "operator packet, length type 0\n",
      "operator packet, length type 0\n",
      "literal value is: 3\n",
      "literal value is: 12\n",
      "literal value is: 5\n",
      "operator packet, length type 1\n",
      "literal value is: 6\n",
      "literal value is: 12\n",
      "literal value is: 6\n",
      "literal value is: 220\n",
      "operator packet, length type 1\n",
      "literal value is: 176\n",
      "operator packet, length type 1\n",
      "literal value is: 72409\n",
      "literal value is: 26342\n",
      "operator packet, length type 1\n",
      "literal value is: 848\n",
      "literal value is: 856\n",
      "literal value is: 428489\n",
      "literal value is: 1008\n",
      "literal value is: 3894\n",
      "literal value is: 12\n",
      "operator packet, length type 1\n",
      "literal value is: 7722\n",
      "literal value is: 787\n",
      "literal value is: 14984475\n",
      "literal value is: 447786\n",
      "operator packet, length type 0\n",
      "operator packet, length type 0\n",
      "literal value is: 79\n",
      "literal value is: 79\n",
      "literal value is: 1035635\n",
      "operator packet, length type 0\n",
      "operator packet, length type 1\n",
      "literal value is: 6\n",
      "literal value is: 9\n",
      "literal value is: 7\n",
      "operator packet, length type 0\n",
      "literal value is: 5\n",
      "literal value is: 12\n",
      "literal value is: 8\n",
      "operator packet, length type 0\n",
      "literal value is: 7\n",
      "literal value is: 9\n",
      "literal value is: 9\n",
      "operator packet, length type 0\n",
      "literal value is: 1610\n",
      "operator packet, length type 1\n",
      "literal value is: 273381\n",
      "literal value is: 80749\n",
      "operator packet, length type 0\n",
      "literal value is: 629\n",
      "operator packet, length type 1\n",
      "literal value is: 172\n",
      "literal value is: 139\n",
      "operator packet, length type 1\n",
      "operator packet, length type 0\n",
      "literal value is: 10\n",
      "literal value is: 6242768568\n",
      "literal value is: 189\n",
      "operator packet, length type 0\n",
      "literal value is: 1162\n",
      "literal value is: 2395511720\n",
      "operator packet, length type 1\n",
      "literal value is: 235\n",
      "literal value is: 179\n",
      "literal value is: 131\n",
      "operator packet, length type 1\n",
      "literal value is: 494786039859\n",
      "literal value is: 151573\n",
      "literal value is: 32919\n",
      "literal value is: 7\n",
      "operator packet, length type 1\n",
      "literal value is: 24812\n",
      "operator packet, length type 1\n",
      "operator packet, length type 1\n",
      "operator packet, length type 0\n",
      "literal value is: 3\n",
      "literal value is: 3\n",
      "literal value is: 15\n",
      "operator packet, length type 1\n",
      "literal value is: 11\n",
      "literal value is: 6\n",
      "literal value is: 9\n",
      "literal value is: 1672\n",
      "operator packet, length type 1\n",
      "operator packet, length type 1\n",
      "literal value is: 12\n",
      "literal value is: 4\n",
      "literal value is: 13\n",
      "operator packet, length type 0\n",
      "literal value is: 14\n",
      "literal value is: 4\n",
      "literal value is: 13\n",
      "operator packet, length type 1\n",
      "literal value is: 15\n",
      "literal value is: 10\n",
      "literal value is: 14\n",
      "operator packet, length type 1\n",
      "literal value is: 1714\n",
      "operator packet, length type 0\n",
      "literal value is: 12776488\n",
      "literal value is: 12776488\n",
      "literal value is: 1924485091\n",
      "operator packet, length type 1\n",
      "literal value is: 162\n",
      "operator packet, length type 1\n",
      "literal value is: 183\n",
      "literal value is: 184\n",
      "literal value is: 470674\n",
      "literal value is: 3\n",
      "literal value is: 11661682\n",
      "literal value is: 3126\n",
      "operator packet, length type 1\n",
      "operator packet, length type 1\n",
      "literal value is: 3941\n",
      "literal value is: 19411949671\n",
      "literal value is: 59\n",
      "operator packet, length type 1\n",
      "literal value is: 3593230329\n",
      "literal value is: 8\n",
      "literal value is: 5\n",
      "operator packet, length type 0\n",
      "literal value is: 42\n",
      "literal value is: 36\n",
      "literal value is: 2\n",
      "literal value is: 508665266753\n",
      "operator packet, length type 1\n",
      "literal value is: 11\n",
      "literal value is: 14\n",
      "operator packet, length type 0\n",
      "operator packet, length type 1\n",
      "operator packet, length type 0\n",
      "literal value is: 10\n",
      "literal value is: 4\n",
      "literal value is: 9\n",
      "operator packet, length type 1\n",
      "literal value is: 2\n",
      "literal value is: 10\n",
      "literal value is: 13\n",
      "literal value is: 235\n",
      "operator packet, length type 0\n",
      "literal value is: 466695\n",
      "literal value is: 281\n",
      "literal value is: 622270\n",
      "literal value is: 4\n",
      "literal value is: 229\n",
      "processed packet, remaining bits are: 00000\n",
      "version sum is 984\n",
      "val is 1015320896946\n"
     ]
    }
   ],
   "source": [
    "h2b = {\"0\": \"0000\", \"1\": \"0001\", \"2\":\"0010\",\"3\":\"0011\",\"4\":\"0100\",\"5\":\"0101\", \"6\":\"0110\",\"7\":\"0111\",\"8\":\"1000\",\"9\": \"1001\",\"A\":\"1010\",\"B\":\"1011\",\"C\":\"1100\",\"D\":\"1101\",\"E\": \"1110\",\"F\":\"1111\"}\n",
    "\n",
    "def get_n_bits(n,bits):\n",
    "  r = bits[:n]\n",
    "  bits = bits[n:]\n",
    "  return r,bits\n",
    "\n",
    "def b2d(b):\n",
    "  weight = 1\n",
    "  v = 0\n",
    "  for i in reversed(range(len(b))):\n",
    "    if b[i] == \"1\":\n",
    "      v += weight\n",
    "    weight = weight * 2\n",
    "  return v\n",
    "\n",
    "def process_literal(bits):\n",
    "  bin_string = \"\"\n",
    "  read_another = 1\n",
    "  while read_another:\n",
    "    cont,bits = get_n_bits(1,bits)\n",
    "    b,bits = get_n_bits(4,bits)\n",
    "    bin_string += b\n",
    "    if cont == \"0\":\n",
    "      read_another = 0\n",
    "  v = b2d(bin_string)\n",
    "  return v,bits \n",
    "\n",
    "def process_packet(bits):\n",
    "  \n",
    "  version,bits = get_n_bits(3,bits)\n",
    "  ptype,bits = get_n_bits(3,bits)\n",
    "  \n",
    "  global version_sum\n",
    "  version_sum += b2d(version)\n",
    "  \n",
    "  if ptype == \"100\":\n",
    "    val,bits = process_literal(bits)\n",
    "    print(\"literal value is:\", val)\n",
    "    return val, bits\n",
    "  else:\n",
    "    #operator packet\n",
    "    length_type,bits = get_n_bits(1,bits)\n",
    "    subp_vals = []\n",
    "    if length_type == \"0\":\n",
    "      print(\"operator packet, length type 0\")\n",
    "      len_string,bits = get_n_bits(15,bits)\n",
    "      total_length_of_subpackets = b2d(len_string)\n",
    "      subp,bits = get_n_bits(total_length_of_subpackets,bits)\n",
    "      while subp:\n",
    "        val, subp = process_packet(subp)\n",
    "        subp_vals.append(val)      \n",
    "    else:\n",
    "      print(\"operator packet, length type 1\")\n",
    "      num_string,bits = get_n_bits(11,bits)\n",
    "      num_of_subpackets = b2d(num_string)\n",
    "      for i in range(num_of_subpackets):\n",
    "        val, bits = process_packet(bits)\n",
    "        subp_vals.append(val)\n",
    "    \n",
    "    if ptype == \"000\":\n",
    "      v = sum(subp_vals)\n",
    "    elif ptype == \"001\":\n",
    "      v = 1\n",
    "      for i in subp_vals:\n",
    "        v = v * i\n",
    "    elif ptype == \"010\":\n",
    "      v = min(subp_vals)\n",
    "    elif ptype == \"011\":\n",
    "      v = max(subp_vals)\n",
    "    elif ptype == \"101\":\n",
    "      if subp_vals[0] > subp_vals[1]:\n",
    "        v = 1\n",
    "      else:\n",
    "        v = 0\n",
    "    elif ptype == \"110\":\n",
    "      if subp_vals[0] < subp_vals[1]:\n",
    "        v = 1\n",
    "      else:\n",
    "        v = 0\n",
    "    elif ptype == \"111\":\n",
    "      if subp_vals[0] == subp_vals[1]:\n",
    "        v = 1\n",
    "      else:\n",
    "        v = 0\n",
    "  return v, bits\n",
    "\n",
    "#f = open(\"input16.txt\",\"r\")\n",
    "#hex_string = f.readline().strip()\n",
    "hex_string = \"E20D41802B2984BD00540010F82D09E35880350D61A41D3004E5611E585F40159ED7AD7C90CF6BD6BE49C802DEB00525272CC1927752698693DA7C70029C0081002140096028C5400F6023C9C00D601ED88070070030005C2201448400E400F40400C400A50801E20004C1000809D14700B67676EE661137ADC64FF2BBAD745B3F2D69026335E92A0053533D78932A9DFE23AC7858C028920A973785338832CFA200F47C81D2BBBC7F9A9E1802FE00ACBA44F4D1E775DDC19C8054D93B7E72DBE7006AA200C41A8510980010D8731720CB80132918319804738AB3A8D3E773C4A4015A498E680292B1852E753E2B29D97F0DE6008CB3D4D031802D2853400D24DEAE0137AB8210051D24EB600844B95C56781B3004F002B99D8F635379EDE273AF26972D4A5610BA51004C12D1E25D802F32313239377B37100105343327E8031802B801AA00021D07231C2F10076184668693AC6600BCD83E8025231D752E5ADE311008A4EA092754596C6789727F069F99A4645008247D2579388DCF53558AE4B76B257200AAB80107947E94789FE76E36402868803F0D62743F00043A1646288800084C3F8971308032996A2BD8023292DF8BE467BB3790047F2572EF004A699E6164C013A007C62848DE91CC6DB459B6B40087E530AB31EE633BD23180393CBF36333038E011CBCE73C6FB098F4956112C98864EA1C2801D2D0F319802D60088002190620E479100622E4358952D84510074C0188CF0923410021F1CE1146E3006E3FC578EE600A4B6C4B002449C97E92449C97E92459796EB4FF874400A9A16100A26CEA6D0E5E5EC8841C9B8FE37109C99818023A00A4FD8BA531586BB8B1DC9AE080293B6972B7FA444285CC00AE492BC910C1697B5BDD8425409700562F471201186C0120004322B42489A200D4138A71AA796D00374978FE07B2314E99BFB6E909678A0\"\n",
    "\n",
    "bits = \"\"\n",
    "ptr = 0\n",
    "version_sum = 0\n",
    "\n",
    "for h in hex_string:\n",
    "  bits += h2b[h]\n",
    "\n",
    "val, bits = process_packet(bits)\n",
    "print(\"processed packet, remaining bits are:\",bits)\n",
    "print(\"version sum is\",version_sum)\n",
    "print(\"val is\", val)"
   ]
  },
  {
   "cell_type": "code",
   "execution_count": 188,
   "id": "91c31593",
   "metadata": {},
   "outputs": [],
   "source": [
    "target = [[20,30],[-10,-5]]"
   ]
  },
  {
   "cell_type": "code",
   "execution_count": 228,
   "id": "51b105a7",
   "metadata": {},
   "outputs": [],
   "source": [
    "maxTri = 300\n",
    "triNumbers =  [1]\n",
    "for i in range(2,maxTri+1):\n",
    "    triNumbers.append(i+triNumbers[-1])"
   ]
  },
  {
   "cell_type": "code",
   "execution_count": 229,
   "id": "f73bd1e3",
   "metadata": {},
   "outputs": [
    {
     "name": "stdout",
     "output_type": "stream",
     "text": [
      "[1, 3, 6, 10, 15, 21, 28, 36, 45, 55, 66, 78, 91, 105, 120, 136, 153, 171, 190, 210, 231, 253, 276, 300, 325, 351, 378, 406, 435, 465, 496, 528, 561, 595, 630, 666, 703, 741, 780, 820, 861, 903, 946, 990, 1035, 1081, 1128, 1176, 1225, 1275, 1326, 1378, 1431, 1485, 1540, 1596, 1653, 1711, 1770, 1830, 1891, 1953, 2016, 2080, 2145, 2211, 2278, 2346, 2415, 2485, 2556, 2628, 2701, 2775, 2850, 2926, 3003, 3081, 3160, 3240, 3321, 3403, 3486, 3570, 3655, 3741, 3828, 3916, 4005, 4095, 4186, 4278, 4371, 4465, 4560, 4656, 4753, 4851, 4950, 5050, 5151, 5253, 5356, 5460, 5565, 5671, 5778, 5886, 5995, 6105, 6216, 6328, 6441, 6555, 6670, 6786, 6903, 7021, 7140, 7260, 7381, 7503, 7626, 7750, 7875, 8001, 8128, 8256, 8385, 8515, 8646, 8778, 8911, 9045, 9180, 9316, 9453, 9591, 9730, 9870, 10011, 10153, 10296, 10440, 10585, 10731, 10878, 11026, 11175, 11325, 11476, 11628, 11781, 11935, 12090, 12246, 12403, 12561, 12720, 12880, 13041, 13203, 13366, 13530, 13695, 13861, 14028, 14196, 14365, 14535, 14706, 14878, 15051, 15225, 15400, 15576, 15753, 15931, 16110, 16290, 16471, 16653, 16836, 17020, 17205, 17391, 17578, 17766, 17955, 18145, 18336, 18528, 18721, 18915, 19110, 19306, 19503, 19701, 19900, 20100, 20301, 20503, 20706, 20910, 21115, 21321, 21528, 21736, 21945, 22155, 22366, 22578, 22791, 23005, 23220, 23436, 23653, 23871, 24090, 24310, 24531, 24753, 24976, 25200, 25425, 25651, 25878, 26106, 26335, 26565, 26796, 27028, 27261, 27495, 27730, 27966, 28203, 28441, 28680, 28920, 29161, 29403, 29646, 29890, 30135, 30381, 30628, 30876, 31125, 31375, 31626, 31878, 32131, 32385, 32640, 32896, 33153, 33411, 33670, 33930, 34191, 34453, 34716, 34980, 35245, 35511, 35778, 36046, 36315, 36585, 36856, 37128, 37401, 37675, 37950, 38226, 38503, 38781, 39060, 39340, 39621, 39903, 40186, 40470, 40755, 41041, 41328, 41616, 41905, 42195, 42486, 42778, 43071, 43365, 43660, 43956, 44253, 44551, 44850, 45150]\n"
     ]
    }
   ],
   "source": [
    "print(triNumbers)"
   ]
  },
  {
   "cell_type": "code",
   "execution_count": 192,
   "id": "1daf20db",
   "metadata": {},
   "outputs": [],
   "source": [
    "xCandidates = filter(lambda x: x in range(target[0][0],target[0][1]+1),triNumbers)"
   ]
  },
  {
   "cell_type": "code",
   "execution_count": 194,
   "id": "e44f8887",
   "metadata": {},
   "outputs": [
    {
     "name": "stdout",
     "output_type": "stream",
     "text": [
      "[21, 28]\n"
     ]
    }
   ],
   "source": [
    "print(list(xCandidates))"
   ]
  },
  {
   "cell_type": "code",
   "execution_count": 245,
   "id": "7122b56c",
   "metadata": {},
   "outputs": [],
   "source": [
    "def simulate(vx0,vy0,target):\n",
    "    xmin,xmax,ymin,ymax = target\n",
    "    maxHeight = 0\n",
    "    x,y = 0,0\n",
    "    vx = vx0\n",
    "    vy = vy0\n",
    "    success = False\n",
    "    while True:\n",
    "        x+=vx\n",
    "        y+=vy\n",
    "#         print(x,y)\n",
    "        vy -= 1\n",
    "        if vx>0:\n",
    "            vx-=1\n",
    "        elif vx<0:\n",
    "            vx +=1\n",
    "        maxHeight = max(maxHeight,y)\n",
    "        if x in range(xmin,xmax+1) and y in range(ymin,ymax+1):\n",
    "            success = True\n",
    "            break\n",
    "        if y<ymin:\n",
    "            break\n",
    "            \n",
    "    return success,maxHeight\n"
   ]
  },
  {
   "cell_type": "code",
   "execution_count": 196,
   "id": "6d0d7ea9",
   "metadata": {},
   "outputs": [],
   "source": [
    "target = [20,30,-10,-5]"
   ]
  },
  {
   "cell_type": "code",
   "execution_count": 202,
   "id": "99759f97",
   "metadata": {},
   "outputs": [
    {
     "name": "stdout",
     "output_type": "stream",
     "text": [
      "7 5\n",
      "13 9\n",
      "18 12\n",
      "22 14\n",
      "25 15\n",
      "27 15\n",
      "28 14\n",
      "28 12\n",
      "28 9\n",
      "28 5\n",
      "28 0\n",
      "28 -6\n",
      "(True, 15)\n"
     ]
    }
   ],
   "source": [
    "print(simulate(7,5,target))"
   ]
  },
  {
   "cell_type": "code",
   "execution_count": 203,
   "id": "a5a3c56c",
   "metadata": {},
   "outputs": [],
   "source": [
    "t2 = [257,286,-101,-57]"
   ]
  },
  {
   "cell_type": "code",
   "execution_count": 249,
   "id": "5c462513",
   "metadata": {},
   "outputs": [],
   "source": [
    "def p2():\n",
    "    vxmin=22\n",
    "    vxmax=287\n",
    "    vymin=-101\n",
    "    vymax=101\n",
    "#     vxmin = 6\n",
    "#     vxmax = 30\n",
    "#     vymin = -20\n",
    "#     vymax = 30\n",
    "#     target = [20,30,-10,-5]\n",
    "    target = [257,286,-101,-57]\n",
    "    maxvx,maxvy,maxheight = 0,0,0\n",
    "    cnt = 0\n",
    "    for vx in range(vxmin,vxmax+1):\n",
    "        for vy in range(vymin,vymax+1):\n",
    "            s,h = simulate(vx,vy,target)\n",
    "            if s:\n",
    "                cnt += 1\n",
    "            if s and h> maxheight:\n",
    "                maxheight = h\n",
    "                maxvx = vx\n",
    "                maxvy = vy\n",
    "    print(maxvx,maxvy,maxheight,cnt)"
   ]
  },
  {
   "cell_type": "code",
   "execution_count": 250,
   "id": "9632f3db",
   "metadata": {},
   "outputs": [
    {
     "name": "stdout",
     "output_type": "stream",
     "text": [
      "23 100 5050 2223\n"
     ]
    }
   ],
   "source": [
    "p2()"
   ]
  },
  {
   "cell_type": "code",
   "execution_count": 239,
   "id": "de051884",
   "metadata": {},
   "outputs": [
    {
     "data": {
      "text/plain": [
       "21"
      ]
     },
     "execution_count": 239,
     "metadata": {},
     "output_type": "execute_result"
    }
   ],
   "source": [
    "max([x if x in range(10,22) else -1 for x in triNumbers])\n",
    "    "
   ]
  },
  {
   "cell_type": "code",
   "execution_count": 242,
   "id": "6605dda5",
   "metadata": {},
   "outputs": [],
   "source": [
    "def part1(target):\n",
    "    xmin,xmax,ymin,ymax = target\n",
    "    # create triNumbers\n",
    "    maxTri = 300\n",
    "    triNumbers =  [1]\n",
    "    for i in range(2,maxTri+1):\n",
    "        triNumbers.append(i+triNumbers[-1])\n",
    "        \n",
    "    # check if \"simple\" solution works, otherwise surrender ;)\n",
    "    if any(x in triNumbers for x in range(xmin,xmax+2)):\n",
    "        return triNumbers[max(abs(ymin),abs(ymax))-2]\n",
    "    else:\n",
    "        return -1"
   ]
  },
  {
   "cell_type": "code",
   "execution_count": 244,
   "id": "7f346bd8",
   "metadata": {},
   "outputs": [
    {
     "name": "stdout",
     "output_type": "stream",
     "text": [
      "5050\n"
     ]
    }
   ],
   "source": [
    "print(p1([257,286,-101,-57]))"
   ]
  },
  {
   "cell_type": "code",
   "execution_count": null,
   "id": "8c4e9ed6",
   "metadata": {},
   "outputs": [],
   "source": [
    "def part2(target):\n",
    "    xmin,xmax,ymin,ymax = target\n",
    "    # create triNumbers\n",
    "    maxTri = 300\n",
    "    triNumbers =  [1]\n",
    "    for i in range(2,maxTri+1):\n",
    "        triNumbers.append(i+triNumbers[-1])\n",
    "    vxmax = xmax +1\n",
    "    # find vx_min\n",
    "    vxmin = 0\n",
    "    for i,v in enumerate(triNumbers):\n",
    "        if v >= xmin:\n",
    "            vxmin = i+1\n",
    "    print(vxmin,vxmax)"
   ]
  }
 ],
 "metadata": {
  "kernelspec": {
   "display_name": "Python 3",
   "language": "python",
   "name": "python3"
  },
  "language_info": {
   "codemirror_mode": {
    "name": "ipython",
    "version": 3
   },
   "file_extension": ".py",
   "mimetype": "text/x-python",
   "name": "python",
   "nbconvert_exporter": "python",
   "pygments_lexer": "ipython3",
   "version": "3.8.8"
  }
 },
 "nbformat": 4,
 "nbformat_minor": 5
}
