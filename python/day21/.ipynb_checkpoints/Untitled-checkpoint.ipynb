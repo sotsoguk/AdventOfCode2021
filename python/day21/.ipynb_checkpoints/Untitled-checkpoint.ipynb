{
 "cells": [
  {
   "cell_type": "code",
   "execution_count": 25,
   "id": "7c89bc95",
   "metadata": {},
   "outputs": [],
   "source": [
    "pos = [3,7]\n",
    "scores = [0,0]\n",
    "active=0\n"
   ]
  },
  {
   "cell_type": "code",
   "execution_count": 26,
   "id": "4f3a965a",
   "metadata": {},
   "outputs": [],
   "source": [
    "# 1st round is different\n",
    "pos[0] += 6\n",
    "pos[0]%=10\n",
    "scores[0]+= (pos[0] +1)\n",
    "pos[1] +=15\n",
    "pos[1] %= 10\n",
    "scores[1]+=(pos[1]+1)\n",
    "deltas = [6,5]"
   ]
  },
  {
   "cell_type": "code",
   "execution_count": 11,
   "id": "816756bc",
   "metadata": {},
   "outputs": [
    {
     "name": "stdout",
     "output_type": "stream",
     "text": [
      "[9, 2] [10, 3]\n"
     ]
    }
   ],
   "source": [
    "print(pos,scores)"
   ]
  },
  {
   "cell_type": "code",
   "execution_count": 27,
   "id": "4965fe5a",
   "metadata": {},
   "outputs": [
    {
     "name": "stdout",
     "output_type": "stream",
     "text": [
      "0 0 [7, 2] [15, 3]\n",
      "1 1 [7, 0] [15, 7]\n",
      "2 0 [5, 0] [18, 7]\n",
      "3 1 [5, 8] [18, 9]\n",
      "4 0 [3, 8] [19, 9]\n",
      "5 1 [3, 6] [19, 19]\n",
      "6 0 [1, 6] [28, 19]\n",
      "7 1 [1, 4] [28, 27]\n",
      "8 0 [9, 4] [35, 27]\n",
      "9 1 [9, 2] [35, 33]\n"
     ]
    }
   ],
   "source": [
    "for i in range(10):\n",
    "    pos[active] += 18\n",
    "    pos[active] %= 10\n",
    "    deltas[active] +=8\n",
    "    deltas[active] %= 10\n",
    "    scores[active] += (deltas[active] +1)\n",
    "    if scores[active] >= 1000:\n",
    "        print(i,active,scores)\n",
    "        break\n",
    "    print(i, active,pos,scores)\n",
    "    active = (active+1)%2"
   ]
  },
  {
   "cell_type": "code",
   "execution_count": 30,
   "id": "69ee7d62",
   "metadata": {},
   "outputs": [],
   "source": [
    "pos = [3,7]\n",
    "scores = [0,0]\n",
    "active = 0"
   ]
  },
  {
   "cell_type": "code",
   "execution_count": 31,
   "id": "9c83ccb7",
   "metadata": {},
   "outputs": [
    {
     "name": "stdout",
     "output_type": "stream",
     "text": [
      "0 [5, 7]\n",
      "1 [5, 2]\n",
      "0 [3, 2]\n",
      "1 [3, 3]\n",
      "0 [7, 3]\n",
      "1 [7, 0]\n",
      "0 [7, 0]\n",
      "1 [7, 3]\n",
      "0 [3, 3]\n",
      "1 [3, 2]\n"
     ]
    }
   ],
   "source": [
    "for i in range(10):\n",
    "    step = 3*i+2\n",
    "    pos[active] +=step\n",
    "    pos[active] %= 10\n",
    "    print(step,active,pos)\n",
    "    active = (active+1)%2"
   ]
  },
  {
   "cell_type": "code",
   "execution_count": null,
   "id": "a55b71ce",
   "metadata": {},
   "outputs": [],
   "source": []
  }
 ],
 "metadata": {
  "kernelspec": {
   "display_name": "Python 3",
   "language": "python",
   "name": "python3"
  },
  "language_info": {
   "codemirror_mode": {
    "name": "ipython",
    "version": 3
   },
   "file_extension": ".py",
   "mimetype": "text/x-python",
   "name": "python",
   "nbconvert_exporter": "python",
   "pygments_lexer": "ipython3",
   "version": "3.8.8"
  }
 },
 "nbformat": 4,
 "nbformat_minor": 5
}
