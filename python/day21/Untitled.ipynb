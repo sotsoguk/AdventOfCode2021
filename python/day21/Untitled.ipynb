{
 "cells": [
  {
   "cell_type": "code",
   "execution_count": 25,
   "id": "93e1ce14",
   "metadata": {},
   "outputs": [],
   "source": [
    "pos = [3,7]\n",
    "scores = [0,0]\n",
    "active=0\n"
   ]
  },
  {
   "cell_type": "code",
   "execution_count": 26,
   "id": "eacff2e9",
   "metadata": {},
   "outputs": [],
   "source": [
    "# 1st round is different\n",
    "pos[0] += 6\n",
    "pos[0]%=10\n",
    "scores[0]+= (pos[0] +1)\n",
    "pos[1] +=15\n",
    "pos[1] %= 10\n",
    "scores[1]+=(pos[1]+1)\n",
    "deltas = [6,5]"
   ]
  },
  {
   "cell_type": "code",
   "execution_count": 11,
   "id": "2d05da8b",
   "metadata": {},
   "outputs": [
    {
     "name": "stdout",
     "output_type": "stream",
     "text": [
      "[9, 2] [10, 3]\n"
     ]
    }
   ],
   "source": [
    "print(pos,scores)"
   ]
  },
  {
   "cell_type": "code",
   "execution_count": 27,
   "id": "b34a7cfd",
   "metadata": {},
   "outputs": [
    {
     "name": "stdout",
     "output_type": "stream",
     "text": [
      "0 0 [7, 2] [15, 3]\n",
      "1 1 [7, 0] [15, 7]\n",
      "2 0 [5, 0] [18, 7]\n",
      "3 1 [5, 8] [18, 9]\n",
      "4 0 [3, 8] [19, 9]\n",
      "5 1 [3, 6] [19, 19]\n",
      "6 0 [1, 6] [28, 19]\n",
      "7 1 [1, 4] [28, 27]\n",
      "8 0 [9, 4] [35, 27]\n",
      "9 1 [9, 2] [35, 33]\n"
     ]
    }
   ],
   "source": [
    "for i in range(10):\n",
    "    pos[active] += 18\n",
    "    pos[active] %= 10\n",
    "    deltas[active] +=8\n",
    "    deltas[active] %= 10\n",
    "    scores[active] += (deltas[active] +1)\n",
    "    if scores[active] >= 1000:\n",
    "        print(i,active,scores)\n",
    "        break\n",
    "    print(i, active,pos,scores)\n",
    "    active = (active+1)%2"
   ]
  },
  {
   "cell_type": "code",
   "execution_count": 57,
   "id": "8d9e0fd0",
   "metadata": {},
   "outputs": [],
   "source": [
    "pos = [10,1]\n",
    "scores = [0,0]\n",
    "active = 0"
   ]
  },
  {
   "cell_type": "code",
   "execution_count": 64,
   "id": "7462b50c",
   "metadata": {},
   "outputs": [
    {
     "name": "stdout",
     "output_type": "stream",
     "text": [
      "0 332 [9, 0] [1006, 921]\n",
      "part1:  920079\n",
      "[1006, 921]\n"
     ]
    }
   ],
   "source": [
    "pos = [9,0]\n",
    "scores = [0,0]\n",
    "active = 0\n",
    "for i in range(390):\n",
    "    step = 3*(3*i+2)\n",
    "    pos[active] +=step\n",
    "    pos[active] %= 10\n",
    "    scores[active] +=(pos[active]+1)\n",
    "#     if active == 1:\n",
    "#         print(step,active,pos,scores)\n",
    "    \n",
    "    if scores[active] >= 1000:\n",
    "#     if i>=329:\n",
    "        print(active,i,pos,scores)\n",
    "        print('part1: ',(i+1)*3*scores[(active+1)%2])\n",
    "        break\n",
    "    active = (active+1)%2\n",
    "print(scores)"
   ]
  },
  {
   "cell_type": "code",
   "execution_count": 65,
   "id": "01e015d0",
   "metadata": {},
   "outputs": [],
   "source": [
    "from itertools import product"
   ]
  },
  {
   "cell_type": "code",
   "execution_count": 66,
   "id": "4fc4e796",
   "metadata": {},
   "outputs": [],
   "source": [
    "dirac_rolls = tuple(map(sum,product(range(1,4),range(1,4),range(1,4))))"
   ]
  },
  {
   "cell_type": "code",
   "execution_count": 74,
   "id": "2f2e175b",
   "metadata": {},
   "outputs": [
    {
     "data": {
      "text/plain": [
       "(3,\n",
       " 4,\n",
       " 5,\n",
       " 4,\n",
       " 5,\n",
       " 6,\n",
       " 5,\n",
       " 6,\n",
       " 7,\n",
       " 4,\n",
       " 5,\n",
       " 6,\n",
       " 5,\n",
       " 6,\n",
       " 7,\n",
       " 6,\n",
       " 7,\n",
       " 8,\n",
       " 5,\n",
       " 6,\n",
       " 7,\n",
       " 6,\n",
       " 7,\n",
       " 8,\n",
       " 7,\n",
       " 8,\n",
       " 9)"
      ]
     },
     "execution_count": 74,
     "metadata": {},
     "output_type": "execute_result"
    }
   ],
   "source": [
    "dirac_rolls"
   ]
  },
  {
   "cell_type": "code",
   "execution_count": 70,
   "id": "b511f200",
   "metadata": {},
   "outputs": [],
   "source": [
    "from functools import lru_cache"
   ]
  },
  {
   "cell_type": "code",
   "execution_count": 71,
   "id": "8fb6198e",
   "metadata": {},
   "outputs": [],
   "source": [
    "@lru_cache(maxsize=None)\n",
    "def part2(active_pos,active_score, inactive_pos,inactive_score):\n",
    "    if active_score >= 21:\n",
    "        return (1,0) # active player wins\n",
    "    if inactive_score >=21:\n",
    "        return (0,1)\n",
    "    \n",
    "    active_wins = inactive_wins = 0\n",
    "    \n",
    "    for r in dirac_rolls:\n",
    "        new_pos = (active_pos + r) % 10\n",
    "        new_score = active_score + new_pos + 1\n",
    "        \n",
    "        # let other player play\n",
    "        iwins, awins = part2(inactive_pos,inactive_score,active_pos,active_score)\n",
    "        active_wins += awins\n",
    "        inactive_wins += iwins\n",
    "    \n",
    "    return active_wins,inactive_wins"
   ]
  },
  {
   "cell_type": "code",
   "execution_count": 75,
   "id": "9d125ad4",
   "metadata": {},
   "outputs": [
    {
     "ename": "RecursionError",
     "evalue": "maximum recursion depth exceeded",
     "output_type": "error",
     "traceback": [
      "\u001b[1;31m---------------------------------------------------------------------------\u001b[0m",
      "\u001b[1;31mRecursionError\u001b[0m                            Traceback (most recent call last)",
      "\u001b[1;32m<ipython-input-75-d0a1834eb06d>\u001b[0m in \u001b[0;36m<module>\u001b[1;34m\u001b[0m\n\u001b[1;32m----> 1\u001b[1;33m \u001b[0mwins\u001b[0m \u001b[1;33m=\u001b[0m \u001b[0mpart2\u001b[0m\u001b[1;33m(\u001b[0m\u001b[1;36m3\u001b[0m\u001b[1;33m,\u001b[0m\u001b[1;36m0\u001b[0m\u001b[1;33m,\u001b[0m\u001b[1;36m7\u001b[0m\u001b[1;33m,\u001b[0m\u001b[1;36m0\u001b[0m\u001b[1;33m)\u001b[0m\u001b[1;33m\u001b[0m\u001b[1;33m\u001b[0m\u001b[0m\n\u001b[0m\u001b[0;32m      2\u001b[0m \u001b[0mbest\u001b[0m \u001b[1;33m=\u001b[0m \u001b[0mmax\u001b[0m\u001b[1;33m(\u001b[0m\u001b[0mwins\u001b[0m\u001b[1;33m)\u001b[0m\u001b[1;33m\u001b[0m\u001b[1;33m\u001b[0m\u001b[0m\n\u001b[0;32m      3\u001b[0m \u001b[0mprint\u001b[0m\u001b[1;33m(\u001b[0m\u001b[0mbest\u001b[0m\u001b[1;33m)\u001b[0m\u001b[1;33m\u001b[0m\u001b[1;33m\u001b[0m\u001b[0m\n",
      "\u001b[1;32m<ipython-input-71-f1cd9ccdd04d>\u001b[0m in \u001b[0;36mpart2\u001b[1;34m(active_pos, active_score, inactive_pos, inactive_score)\u001b[0m\n\u001b[0;32m     13\u001b[0m \u001b[1;33m\u001b[0m\u001b[0m\n\u001b[0;32m     14\u001b[0m         \u001b[1;31m# let other player play\u001b[0m\u001b[1;33m\u001b[0m\u001b[1;33m\u001b[0m\u001b[1;33m\u001b[0m\u001b[0m\n\u001b[1;32m---> 15\u001b[1;33m         \u001b[0miwins\u001b[0m\u001b[1;33m,\u001b[0m \u001b[0mawins\u001b[0m \u001b[1;33m=\u001b[0m \u001b[0mpart2\u001b[0m\u001b[1;33m(\u001b[0m\u001b[0minactive_pos\u001b[0m\u001b[1;33m,\u001b[0m\u001b[0minactive_score\u001b[0m\u001b[1;33m,\u001b[0m\u001b[0mactive_pos\u001b[0m\u001b[1;33m,\u001b[0m\u001b[0mactive_score\u001b[0m\u001b[1;33m)\u001b[0m\u001b[1;33m\u001b[0m\u001b[1;33m\u001b[0m\u001b[0m\n\u001b[0m\u001b[0;32m     16\u001b[0m         \u001b[0mactive_wins\u001b[0m \u001b[1;33m+=\u001b[0m \u001b[0mawins\u001b[0m\u001b[1;33m\u001b[0m\u001b[1;33m\u001b[0m\u001b[0m\n\u001b[0;32m     17\u001b[0m         \u001b[0minactive_wins\u001b[0m \u001b[1;33m+=\u001b[0m \u001b[0miwins\u001b[0m\u001b[1;33m\u001b[0m\u001b[1;33m\u001b[0m\u001b[0m\n",
      "... last 1 frames repeated, from the frame below ...\n",
      "\u001b[1;32m<ipython-input-71-f1cd9ccdd04d>\u001b[0m in \u001b[0;36mpart2\u001b[1;34m(active_pos, active_score, inactive_pos, inactive_score)\u001b[0m\n\u001b[0;32m     13\u001b[0m \u001b[1;33m\u001b[0m\u001b[0m\n\u001b[0;32m     14\u001b[0m         \u001b[1;31m# let other player play\u001b[0m\u001b[1;33m\u001b[0m\u001b[1;33m\u001b[0m\u001b[1;33m\u001b[0m\u001b[0m\n\u001b[1;32m---> 15\u001b[1;33m         \u001b[0miwins\u001b[0m\u001b[1;33m,\u001b[0m \u001b[0mawins\u001b[0m \u001b[1;33m=\u001b[0m \u001b[0mpart2\u001b[0m\u001b[1;33m(\u001b[0m\u001b[0minactive_pos\u001b[0m\u001b[1;33m,\u001b[0m\u001b[0minactive_score\u001b[0m\u001b[1;33m,\u001b[0m\u001b[0mactive_pos\u001b[0m\u001b[1;33m,\u001b[0m\u001b[0mactive_score\u001b[0m\u001b[1;33m)\u001b[0m\u001b[1;33m\u001b[0m\u001b[1;33m\u001b[0m\u001b[0m\n\u001b[0m\u001b[0;32m     16\u001b[0m         \u001b[0mactive_wins\u001b[0m \u001b[1;33m+=\u001b[0m \u001b[0mawins\u001b[0m\u001b[1;33m\u001b[0m\u001b[1;33m\u001b[0m\u001b[0m\n\u001b[0;32m     17\u001b[0m         \u001b[0minactive_wins\u001b[0m \u001b[1;33m+=\u001b[0m \u001b[0miwins\u001b[0m\u001b[1;33m\u001b[0m\u001b[1;33m\u001b[0m\u001b[0m\n",
      "\u001b[1;31mRecursionError\u001b[0m: maximum recursion depth exceeded"
     ]
    }
   ],
   "source": [
    "wins = part2(3,0,7,0)\n",
    "best = max(wins)\n",
    "print(best)"
   ]
  },
  {
   "cell_type": "code",
   "execution_count": 77,
   "id": "7f58b11a",
   "metadata": {},
   "outputs": [
    {
     "ename": "SyntaxError",
     "evalue": "unexpected EOF while parsing (<ipython-input-77-9286ffc80951>, line 1)",
     "output_type": "error",
     "traceback": [
      "\u001b[1;36m  File \u001b[1;32m\"<ipython-input-77-9286ffc80951>\"\u001b[1;36m, line \u001b[1;32m1\u001b[0m\n\u001b[1;33m    @functools.cache\u001b[0m\n\u001b[1;37m                    ^\u001b[0m\n\u001b[1;31mSyntaxError\u001b[0m\u001b[1;31m:\u001b[0m unexpected EOF while parsing\n"
     ]
    }
   ],
   "source": [
    "@functools.cache"
   ]
  },
  {
   "cell_type": "code",
   "execution_count": 97,
   "id": "99c90ecf",
   "metadata": {},
   "outputs": [],
   "source": [
    "@lru_cache(maxsize=None)\n",
    "def play2(pos1, pos2, pts1=0,pts2=0):\n",
    "    if pts1>=21:\n",
    "        return 1,0\n",
    "    if pts2>= 21:\n",
    "        return 0,1\n",
    "    wins1 = wins2 = 0\n",
    "#     for r in dirac_rolls:\n",
    "    for r in dirac_counter:\n",
    "        pos =(pos1+r)%10\n",
    "        w2,w1 = play2(pos2,pos,pts2,pts1+pos+1)\n",
    "        wins1 += (w1*dirac_counter[r])\n",
    "        wins2 += (w2*dirac_counter[r])\n",
    "    return wins1, wins2"
   ]
  },
  {
   "cell_type": "code",
   "execution_count": 96,
   "id": "ee26942e",
   "metadata": {},
   "outputs": [
    {
     "data": {
      "text/plain": [
       "56852759190649"
      ]
     },
     "execution_count": 96,
     "metadata": {},
     "output_type": "execute_result"
    }
   ],
   "source": [
    "max(play2(9,0))"
   ]
  },
  {
   "cell_type": "code",
   "execution_count": 87,
   "id": "1c2f1173",
   "metadata": {},
   "outputs": [],
   "source": [
    "from collections import Counter"
   ]
  },
  {
   "cell_type": "code",
   "execution_count": 88,
   "id": "0e2760cc",
   "metadata": {},
   "outputs": [],
   "source": [
    "dirac_counter = Counter(dirac_rolls)"
   ]
  },
  {
   "cell_type": "code",
   "execution_count": 89,
   "id": "e94a0290",
   "metadata": {},
   "outputs": [
    {
     "data": {
      "text/plain": [
       "Counter({3: 1, 4: 3, 5: 6, 6: 7, 7: 6, 8: 3, 9: 1})"
      ]
     },
     "execution_count": 89,
     "metadata": {},
     "output_type": "execute_result"
    }
   ],
   "source": [
    "dirac_counter"
   ]
  },
  {
   "cell_type": "code",
   "execution_count": 91,
   "id": "3dd32e88",
   "metadata": {},
   "outputs": [
    {
     "ename": "TypeError",
     "evalue": "cannot unpack non-iterable int object",
     "output_type": "error",
     "traceback": [
      "\u001b[1;31m---------------------------------------------------------------------------\u001b[0m",
      "\u001b[1;31mTypeError\u001b[0m                                 Traceback (most recent call last)",
      "\u001b[1;32m<ipython-input-91-0e9f310453dc>\u001b[0m in \u001b[0;36m<module>\u001b[1;34m\u001b[0m\n\u001b[1;32m----> 1\u001b[1;33m \u001b[1;32mfor\u001b[0m \u001b[0mr\u001b[0m\u001b[1;33m,\u001b[0m\u001b[0mn\u001b[0m \u001b[1;32min\u001b[0m \u001b[0mlist\u001b[0m\u001b[1;33m(\u001b[0m\u001b[0mdirac_counter\u001b[0m\u001b[1;33m)\u001b[0m\u001b[1;33m:\u001b[0m\u001b[1;33m\u001b[0m\u001b[1;33m\u001b[0m\u001b[0m\n\u001b[0m\u001b[0;32m      2\u001b[0m     \u001b[0mprint\u001b[0m\u001b[1;33m(\u001b[0m\u001b[0mr\u001b[0m\u001b[1;33m,\u001b[0m\u001b[0mn\u001b[0m\u001b[1;33m)\u001b[0m\u001b[1;33m\u001b[0m\u001b[1;33m\u001b[0m\u001b[0m\n",
      "\u001b[1;31mTypeError\u001b[0m: cannot unpack non-iterable int object"
     ]
    }
   ],
   "source": [
    "for r,n in list(dirac_counter):\n",
    "    print(r,n)"
   ]
  },
  {
   "cell_type": "code",
   "execution_count": 92,
   "id": "d4993283",
   "metadata": {},
   "outputs": [
    {
     "name": "stdout",
     "output_type": "stream",
     "text": [
      "3 1\n",
      "4 3\n",
      "5 6\n",
      "6 7\n",
      "7 6\n",
      "8 3\n",
      "9 1\n"
     ]
    }
   ],
   "source": [
    "for r in dirac_counter:\n",
    "    print(r,dirac_counter[r])"
   ]
  },
  {
   "cell_type": "code",
   "execution_count": null,
   "id": "ddc5278e",
   "metadata": {},
   "outputs": [],
   "source": []
  }
 ],
 "metadata": {
  "kernelspec": {
   "display_name": "Python 3",
   "language": "python",
   "name": "python3"
  },
  "language_info": {
   "codemirror_mode": {
    "name": "ipython",
    "version": 3
   },
   "file_extension": ".py",
   "mimetype": "text/x-python",
   "name": "python",
   "nbconvert_exporter": "python",
   "pygments_lexer": "ipython3",
   "version": "3.8.8"
  }
 },
 "nbformat": 4,
 "nbformat_minor": 5
}
